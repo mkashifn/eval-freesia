{
 "cells": [
  {
   "cell_type": "code",
   "execution_count": 1,
   "metadata": {
    "_cell_guid": "b1076dfc-b9ad-4769-8c92-a6c4dae69d19",
    "_uuid": "8f2839f25d086af736a60e9eeb907d3b93b6e0e5"
   },
   "outputs": [],
   "source": [
    "# Imports\n",
    "\n",
    "########################################################################\n",
    "# Python Standard Libraries\n",
    "import os\n",
    "import multiprocessing\n",
    "from timeit import default_timer as timer\n",
    "\n",
    "########################################################################\n",
    "# Numpy Library\n",
    "import numpy as np # linear algebra\n",
    "\n",
    "########################################################################\n",
    "# Pandas Library\n",
    "import pandas as pd # data processing, CSV file I/O (e.g. pd.read_csv)\n",
    "\n",
    "########################################################################\n",
    "# MATPLOT Library\n",
    "import matplotlib.cm as cm\n",
    "import matplotlib.pyplot as plt\n",
    "import matplotlib.patches as mpatches\n",
    "from matplotlib.ticker import MaxNLocator\n",
    "%matplotlib inline\n",
    "\n",
    "########################################################################\n",
    "# SKLearn Library\n",
    "from sklearn.preprocessing import StandardScaler, MinMaxScaler\n",
    "from sklearn.decomposition import PCA\n",
    "from sklearn.model_selection import train_test_split \n",
    "from sklearn.linear_model import LinearRegression\n",
    "from sklearn import metrics\n",
    "from sklearn.metrics import accuracy_score, precision_recall_curve, classification_report, confusion_matrix, average_precision_score, roc_curve, auc, multilabel_confusion_matrix\n",
    "\n",
    "########################################################################\n",
    "# SCIPY Library\n",
    "from scipy.stats import gaussian_kde\n",
    "import scipy.stats as st"
   ]
  },
  {
   "cell_type": "code",
   "execution_count": 2,
   "metadata": {
    "_cell_guid": "79c7e3d0-c299-4dcb-8224-4455121ee9b0",
    "_uuid": "d629ff2d2480ee46fbb7e2d37f6b5fab8052498a"
   },
   "outputs": [
    {
     "name": "stdout",
     "output_type": "stream",
     "text": [
      "RAM:                   18.621841 GB\n",
      "CORES:                 4\n",
      "Architecture:        x86_64\r\n",
      "CPU op-mode(s):      32-bit, 64-bit\r\n",
      "Byte Order:          Little Endian\r\n",
      "CPU(s):              4\r\n",
      "On-line CPU(s) list: 0-3\r\n",
      "Thread(s) per core:  2\r\n",
      "Core(s) per socket:  2\r\n",
      "Socket(s):           1\r\n",
      "NUMA node(s):        1\r\n",
      "Vendor ID:           GenuineIntel\r\n",
      "CPU family:          6\r\n",
      "Model:               79\r\n",
      "Model name:          Intel(R) Xeon(R) CPU @ 2.20GHz\r\n",
      "Stepping:            0\r\n",
      "CPU MHz:             2200.134\r\n",
      "BogoMIPS:            4400.26\r\n",
      "Hypervisor vendor:   KVM\r\n",
      "Virtualization type: full\r\n",
      "L1d cache:           32K\r\n",
      "L1i cache:           32K\r\n",
      "L2 cache:            256K\r\n",
      "L3 cache:            56320K\r\n",
      "NUMA node0 CPU(s):   0-3\r\n",
      "Flags:               fpu vme de pse tsc msr pae mce cx8 apic sep mtrr pge mca cmov pat pse36 clflush mmx fxsr sse sse2 ss ht syscall nx pdpe1gb rdtscp lm constant_tsc rep_good nopl xtopology nonstop_tsc cpuid tsc_known_freq pni pclmulqdq ssse3 fma cx16 pcid sse4_1 sse4_2 x2apic movbe popcnt aes xsave avx f16c rdrand hypervisor lahf_lm abm 3dnowprefetch invpcid_single pti ssbd ibrs ibpb stibp fsgsbase tsc_adjust bmi1 hle avx2 smep bmi2 erms invpcid rtm rdseed adx smap xsaveopt arat md_clear arch_capabilities\r\n"
     ]
    }
   ],
   "source": [
    "# Utility functions\n",
    "########################################################################\n",
    "# Print system information\n",
    "def print_system_info():\n",
    "    mem_bytes = os.sysconf('SC_PAGE_SIZE') * os.sysconf('SC_PHYS_PAGES')  # e.g. 4015976448\n",
    "    mem_gib = mem_bytes/(1024.**3)  # e.g. 3.74\n",
    "    print(\"{:<23}{:f} GB\".format('RAM:', mem_gib))\n",
    "    print(\"{:<23}{:d}\".format('CORES:', multiprocessing.cpu_count()))\n",
    "    !lscpu\n",
    "\n",
    "########################################################################\n",
    "# Walk through input files\n",
    "def print_input_files():\n",
    "    # Input data files are available in the \"../input/\" directory.\n",
    "    for dirname, _, filenames in os.walk('/kaggle/input'):\n",
    "        for filename in filenames:\n",
    "            print(os.path.join(dirname, filename))\n",
    "\n",
    "########################################################################\n",
    "# Dump text files\n",
    "def dump_text_file(fname):\n",
    "    with open(fname, 'r') as f:\n",
    "        print(f.read())\n",
    "\n",
    "########################################################################\n",
    "# Dump CSV files\n",
    "def dump_csv_file(fname, count=5):\n",
    "    # count: 0 - column names only, -1 - all rows, default = 5 rows max\n",
    "    df = pd.read_csv(fname)\n",
    "    if count < 0:\n",
    "        count = df.shape[0]\n",
    "    return df.head(count)\n",
    "\n",
    "########################################################################\n",
    "# Dataset related functions\n",
    "ds_nbaiot = '/kaggle/input/nbaiot-dataset'\n",
    "dn_nbaiot = ['Danmini_Doorbell', 'Ecobee_Thermostat', 'Ennio_Doorbell', 'Philips_B120N10_Baby_Monitor', 'Provision_PT_737E_Security_Camera', 'Provision_PT_838_Security_Camera', 'Samsung_SNH_1011_N_Webcam', 'SimpleHome_XCS7_1002_WHT_Security_Camera', 'SimpleHome_XCS7_1003_WHT_Security_Camera']\n",
    "\n",
    "def fname(ds, f):\n",
    "    if '.csv' not in f:\n",
    "        f = f'{f}.csv'\n",
    "    return os.path.join(ds, f)\n",
    "\n",
    "def fname_nbaiot(f):\n",
    "    return fname(ds_nbaiot, f)\n",
    "\n",
    "def get_nbaiot_device_files():\n",
    "    nbaiot_all_files = dump_csv_file(fname_nbaiot('data_summary'), -1)\n",
    "    nbaiot_all_files = nbaiot_all_files.iloc[:,0:1].values\n",
    "    device_id = 1\n",
    "    indices = []\n",
    "    for j in range(len(nbaiot_all_files)):\n",
    "        if str(device_id) not in str(nbaiot_all_files[j]):\n",
    "            indices.append(j)\n",
    "            device_id += 1\n",
    "    nbaiot_device_files = np.split(nbaiot_all_files, indices)\n",
    "    return nbaiot_device_files\n",
    "\n",
    "def get_nbaiot_device_data(device_id, count_norm=-1, count_anom=-1):\n",
    "    if device_id < 1 or device_id > 9:\n",
    "        assert False, \"Please provide a valid device ID 1-9, both inclusive\"\n",
    "    if count_anom == -1:\n",
    "        count_anom = count_norm\n",
    "    device_index = device_id -1\n",
    "    device_files = get_nbaiot_device_files()\n",
    "    device_file = device_files[device_index]\n",
    "    df = pd.DataFrame()\n",
    "    y = []\n",
    "    for i in range(len(device_file)):\n",
    "        fname = str(device_file[i][0])\n",
    "        df_c = pd.read_csv(fname_nbaiot(fname))\n",
    "        count = count_anom\n",
    "        if 'benign' in fname:\n",
    "            count = count_norm\n",
    "        rows = count if count >=0 else df_c.shape[0]\n",
    "        print(\"processing\", fname, \"rows =\", rows)\n",
    "        y_np = np.ones(rows) if 'benign' in fname else np.zeros(rows)\n",
    "        y.extend(y_np.tolist())\n",
    "        df = pd.concat([df.iloc[:,:].reset_index(drop=True),\n",
    "                      df_c.iloc[:rows,:].reset_index(drop=True)], axis=0)\n",
    "    X = df.iloc[:,:].values\n",
    "    y = np.array(y)\n",
    "    Xdf = df\n",
    "    return (X, y, Xdf)\n",
    "\n",
    "def get_nbaiot_devices_data():\n",
    "    devices_data = []\n",
    "    for i in range(9):\n",
    "        device_id = i + 1\n",
    "        (X, y) = get_nbaiot_device_data(device_id)\n",
    "        devices_data.append((X, y))\n",
    "    return devices_data\n",
    "#print_input_files()\n",
    "print_system_info()"
   ]
  },
  {
   "cell_type": "code",
   "execution_count": 3,
   "metadata": {},
   "outputs": [],
   "source": [
    "def gen_teda_obj(observation, k=None, mean=None, var=None, ecc=None):\n",
    "    teda = {}\n",
    "    if not k:\n",
    "        k = 1\n",
    "        mean = observation\n",
    "        var = 0\n",
    "        ecc = 1\n",
    "    else:\n",
    "        if mean is None or var is None or ecc is None:\n",
    "            assert False, 'mean, variance and ecc values are required'\n",
    "\n",
    "    teda['k'] = k\n",
    "    teda['observation'] = observation\n",
    "    teda['mean'] = mean\n",
    "    teda['var'] = var\n",
    "    teda['eccentricity'] = ecc\n",
    "    teda['typicality'] = 1.0 - ecc\n",
    "    teda['norm_eccentricity'] = teda['eccentricity'] / 2.0\n",
    "    teda['norm_typicality'] = teda['typicality'] / (k - 2.0)\n",
    "    teda['outlier'] = 1.0 if teda['norm_eccentricity'] > (1.0 / k) else 0.0\n",
    "    teda['normal'] = 1.0 if teda['outlier'] < 0.5 else 0.0\n",
    "    teda['normal_bool'] = True if teda['normal'] > 0.5 else False\n",
    "    teda['ecc_threshold'] = 1.0 / k\n",
    "\n",
    "    return teda\n",
    "\n",
    "\n",
    "def calc_teda_single(observation, teda = None):\n",
    "    if not teda:\n",
    "        teda = gen_teda_obj(observation)\n",
    "    else:\n",
    "        k = teda['k'] + 1.0\n",
    "        mean = teda['mean']\n",
    "        var = teda['var']\n",
    "\n",
    "        # Calculate the running mean value\n",
    "        mean =  (((k - 1)  / k) * mean) + ((1 / k) * observation)\n",
    "\n",
    "        # Calculate the running mean value\n",
    "        var = (((k - 1) / k) * var) + (1 / (k - 1)) * np.linalg.norm(observation - mean)\n",
    "\n",
    "        # Calculate the running eccentricity value\n",
    "        ecc = (1 / k) +  (np.linalg.norm(mean - observation) / (k * var))\n",
    "\n",
    "        teda = gen_teda_obj(observation, k, mean, var, ecc)\n",
    "\n",
    "    return teda\n",
    "\n",
    "def calc_teda(X):\n",
    "    teda = None\n",
    "    teda_output = []\n",
    "    rows = X.shape[0]\n",
    "    for i in range(rows):\n",
    "        teda = calc_teda_single(X[i,:], teda)\n",
    "        teda_output.append(teda['normal'])\n",
    "\n",
    "    return teda_output\n",
    "\n",
    "def predict(X, X_norm, X_anom):\n",
    "    teda_norm = None\n",
    "    teda_anom = None\n",
    "    y_pred = []\n",
    "    rows = X.shape[0]\n",
    "    rows_norm = X_norm.shape[0]\n",
    "    rows_anom = X_anom.shape[0]\n",
    "    for i in range(rows_norm):\n",
    "        teda_norm = calc_teda_single(X_norm[i,:], teda_norm)\n",
    "\n",
    "    for i in range(rows_anom):\n",
    "        teda_anom = calc_teda_single(X_anom[i,:], teda_anom)\n",
    "\n",
    "    for i in range(rows):\n",
    "        teda_norm_tmp = calc_teda_single(X[i,:], teda_norm)\n",
    "        teda_anom_tmp = calc_teda_single(X[i,:], teda_anom)\n",
    "        \n",
    "        if (teda_norm_tmp['normal_bool'] == True):\n",
    "            y_pred.append(1.0)\n",
    "            teda_norm = teda_norm_tmp\n",
    "        else:\n",
    "            y_pred.append(0.0)\n",
    "            teda_anom = teda_anom_tmp\n",
    "\n",
    "    return(np.array(y_pred))\n",
    "\n",
    "def remove_correlated_features(df, threshold):\n",
    "    df = df.copy()\n",
    "    # Create correlation matrix\n",
    "    corr_matrix = df.corr().abs()\n",
    "\n",
    "    # Select upper triangle of correlation matrix\n",
    "    upper = corr_matrix.where(np.triu(np.ones(corr_matrix.shape), k=1).astype(np.bool))\n",
    "\n",
    "    # Find features with correlation greater than a threshold\n",
    "    to_drop = [column for column in upper.columns if any(upper[column] > threshold)]\n",
    "\n",
    "    # Drop features \n",
    "    df.drop(to_drop, axis=1, inplace=True)\n",
    "    return df.iloc[:,:].values\n",
    "\n",
    "def mark_important_features(vector, pc_keep): # pc_keep is the percentage (0-100) of labels to keep\n",
    "    th = np.percentile(vector,(100-pc_keep)) # threshold, calculate percentile (100 - percentage) from percentage\n",
    "    important_bool = (vector >= th)\n",
    "    important_int = important_bool.astype(int)\n",
    "    return important_int\n",
    "\n",
    "def select_features(X, X_norm, X_anom):\n",
    "    rows_n = X_norm.shape[0]\n",
    "    rows_a = X_anom.shape[0]\n",
    "    if rows_n == 0 or rows_a == 0:\n",
    "        return X\n",
    "\n",
    "    y_norm = np.ones(rows_n)\n",
    "    y_anom = np.zeros(rows_a)\n",
    "\n",
    "    reg_n = LinearRegression(fit_intercept=False)\n",
    "    reg_n.fit(X_norm, y_norm)\n",
    "    coef_n = abs(reg_n.coef_)\n",
    "    n = mark_important_features(coef_n, 85)\n",
    "\n",
    "    reg_a = LinearRegression(fit_intercept=False)\n",
    "    reg_a.fit(X_anom, y_anom)\n",
    "    coef_a = abs(reg_a.coef_)\n",
    "    a = mark_important_features(coef_a, 85)\n",
    "\n",
    "    mask = np.bitwise_or(n,a)\n",
    "    mask = mask == 1 # convert to Boolean\n",
    "    X_sel = X[:, mask]\n",
    "    return X_sel"
   ]
  },
  {
   "cell_type": "code",
   "execution_count": 4,
   "metadata": {},
   "outputs": [
    {
     "name": "stdout",
     "output_type": "stream",
     "text": [
      "processing 1.benign.csv rows = 49548\n",
      "processing 1.gafgyt.combo.csv rows = 59718\n",
      "processing 1.gafgyt.junk.csv rows = 29068\n",
      "processing 1.gafgyt.scan.csv rows = 29849\n",
      "processing 1.gafgyt.tcp.csv rows = 92141\n",
      "processing 1.gafgyt.udp.csv rows = 105874\n",
      "processing 1.mirai.ack.csv rows = 102195\n",
      "processing 1.mirai.scan.csv rows = 107685\n",
      "processing 1.mirai.syn.csv rows = 122573\n",
      "processing 1.mirai.udp.csv rows = 237665\n",
      "processing 1.mirai.udpplain.csv rows = 81982\n",
      "Danmini_Doorbell\n",
      "total features 115\n",
      "final features 36\n",
      "features_final,features_selected,count_norm,count_anom,count_frac,acc,tn,fp,fn,tp\n"
     ]
    },
    {
     "name": "stderr",
     "output_type": "stream",
     "text": [
      "/opt/conda/lib/python3.7/site-packages/ipykernel_launcher.py:19: RuntimeWarning: invalid value encountered in double_scalars\n"
     ]
    },
    {
     "name": "stdout",
     "output_type": "stream",
     "text": [
      "0000000036,0000000036,0000000000,0000000000,0.00,0.95,968101,649,49440,108\n"
     ]
    },
    {
     "name": "stderr",
     "output_type": "stream",
     "text": [
      "/opt/conda/lib/python3.7/site-packages/ipykernel_launcher.py:19: RuntimeWarning: invalid value encountered in double_scalars\n"
     ]
    },
    {
     "name": "stdout",
     "output_type": "stream",
     "text": [
      "0000000036,0000000036,0000002477,0000048437,0.05,0.98,968633,117,18670,30878\n"
     ]
    },
    {
     "name": "stderr",
     "output_type": "stream",
     "text": [
      "/opt/conda/lib/python3.7/site-packages/ipykernel_launcher.py:19: RuntimeWarning: invalid value encountered in double_scalars\n"
     ]
    },
    {
     "name": "stdout",
     "output_type": "stream",
     "text": [
      "0000000036,0000000036,0000004954,0000096875,0.10,0.98,968385,365,18552,30996\n"
     ]
    },
    {
     "name": "stderr",
     "output_type": "stream",
     "text": [
      "/opt/conda/lib/python3.7/site-packages/ipykernel_launcher.py:19: RuntimeWarning: invalid value encountered in double_scalars\n"
     ]
    },
    {
     "name": "stdout",
     "output_type": "stream",
     "text": [
      "0000000036,0000000036,0000007432,0000145312,0.15,0.77,750541,218209,18435,31113\n"
     ]
    },
    {
     "name": "stderr",
     "output_type": "stream",
     "text": [
      "/opt/conda/lib/python3.7/site-packages/ipykernel_launcher.py:19: RuntimeWarning: invalid value encountered in double_scalars\n"
     ]
    },
    {
     "name": "stdout",
     "output_type": "stream",
     "text": [
      "0000000036,0000000036,0000009909,0000193750,0.20,0.75,734362,234388,18262,31286\n"
     ]
    },
    {
     "name": "stderr",
     "output_type": "stream",
     "text": [
      "/opt/conda/lib/python3.7/site-packages/ipykernel_launcher.py:19: RuntimeWarning: invalid value encountered in double_scalars\n"
     ]
    },
    {
     "name": "stdout",
     "output_type": "stream",
     "text": [
      "0000000036,0000000036,0000012387,0000242187,0.25,0.74,724254,244496,18107,31441\n"
     ]
    },
    {
     "name": "stderr",
     "output_type": "stream",
     "text": [
      "/opt/conda/lib/python3.7/site-packages/ipykernel_launcher.py:19: RuntimeWarning: invalid value encountered in double_scalars\n"
     ]
    },
    {
     "name": "stdout",
     "output_type": "stream",
     "text": [
      "0000000036,0000000036,0000014864,0000290625,0.30,0.73,708993,259757,17463,32085\n"
     ]
    },
    {
     "name": "stderr",
     "output_type": "stream",
     "text": [
      "/opt/conda/lib/python3.7/site-packages/ipykernel_launcher.py:19: RuntimeWarning: invalid value encountered in double_scalars\n"
     ]
    },
    {
     "name": "stdout",
     "output_type": "stream",
     "text": [
      "0000000036,0000000036,0000017341,0000339062,0.35,0.72,698010,270740,17290,32258\n"
     ]
    },
    {
     "name": "stderr",
     "output_type": "stream",
     "text": [
      "/opt/conda/lib/python3.7/site-packages/ipykernel_launcher.py:19: RuntimeWarning: invalid value encountered in double_scalars\n"
     ]
    },
    {
     "name": "stdout",
     "output_type": "stream",
     "text": [
      "0000000036,0000000036,0000019819,0000387499,0.40,0.70,684563,284187,17036,32512\n"
     ]
    },
    {
     "name": "stderr",
     "output_type": "stream",
     "text": [
      "/opt/conda/lib/python3.7/site-packages/ipykernel_launcher.py:19: RuntimeWarning: invalid value encountered in double_scalars\n"
     ]
    },
    {
     "name": "stdout",
     "output_type": "stream",
     "text": [
      "0000000036,0000000036,0000022296,0000435937,0.45,0.69,671688,297062,16918,32630\n"
     ]
    },
    {
     "name": "stderr",
     "output_type": "stream",
     "text": [
      "/opt/conda/lib/python3.7/site-packages/ipykernel_launcher.py:19: RuntimeWarning: invalid value encountered in double_scalars\n"
     ]
    },
    {
     "name": "stdout",
     "output_type": "stream",
     "text": [
      "0000000036,0000000036,0000024773,0000484374,0.50,0.68,661468,307282,16862,32686\n"
     ]
    },
    {
     "name": "stderr",
     "output_type": "stream",
     "text": [
      "/opt/conda/lib/python3.7/site-packages/ipykernel_launcher.py:19: RuntimeWarning: invalid value encountered in double_scalars\n"
     ]
    },
    {
     "name": "stdout",
     "output_type": "stream",
     "text": [
      "0000000036,0000000036,0000027251,0000532812,0.55,0.68,658163,310587,16888,32660\n"
     ]
    },
    {
     "name": "stderr",
     "output_type": "stream",
     "text": [
      "/opt/conda/lib/python3.7/site-packages/ipykernel_launcher.py:19: RuntimeWarning: invalid value encountered in double_scalars\n"
     ]
    },
    {
     "name": "stdout",
     "output_type": "stream",
     "text": [
      "0000000036,0000000036,0000029728,0000581250,0.60,0.67,646257,322493,16790,32758\n"
     ]
    },
    {
     "name": "stderr",
     "output_type": "stream",
     "text": [
      "/opt/conda/lib/python3.7/site-packages/ipykernel_launcher.py:19: RuntimeWarning: invalid value encountered in double_scalars\n"
     ]
    },
    {
     "name": "stdout",
     "output_type": "stream",
     "text": [
      "0000000036,0000000036,0000032206,0000629687,0.65,0.62,601987,366763,16324,33224\n"
     ]
    },
    {
     "name": "stderr",
     "output_type": "stream",
     "text": [
      "/opt/conda/lib/python3.7/site-packages/ipykernel_launcher.py:19: RuntimeWarning: invalid value encountered in double_scalars\n"
     ]
    },
    {
     "name": "stdout",
     "output_type": "stream",
     "text": [
      "0000000036,0000000036,0000034683,0000678125,0.70,0.62,597585,371165,16255,33293\n"
     ]
    },
    {
     "name": "stderr",
     "output_type": "stream",
     "text": [
      "/opt/conda/lib/python3.7/site-packages/ipykernel_launcher.py:19: RuntimeWarning: invalid value encountered in double_scalars\n"
     ]
    },
    {
     "name": "stdout",
     "output_type": "stream",
     "text": [
      "0000000036,0000000036,0000037161,0000726562,0.75,0.61,583412,385338,16078,33470\n"
     ]
    },
    {
     "name": "stderr",
     "output_type": "stream",
     "text": [
      "/opt/conda/lib/python3.7/site-packages/ipykernel_launcher.py:19: RuntimeWarning: invalid value encountered in double_scalars\n"
     ]
    },
    {
     "name": "stdout",
     "output_type": "stream",
     "text": [
      "0000000036,0000000036,0000039638,0000775000,0.80,0.60,577480,391270,15965,33583\n"
     ]
    },
    {
     "name": "stderr",
     "output_type": "stream",
     "text": [
      "/opt/conda/lib/python3.7/site-packages/ipykernel_launcher.py:19: RuntimeWarning: invalid value encountered in double_scalars\n"
     ]
    },
    {
     "name": "stdout",
     "output_type": "stream",
     "text": [
      "0000000036,0000000036,0000042115,0000823437,0.85,0.60,579710,389040,15948,33600\n"
     ]
    },
    {
     "name": "stderr",
     "output_type": "stream",
     "text": [
      "/opt/conda/lib/python3.7/site-packages/ipykernel_launcher.py:19: RuntimeWarning: invalid value encountered in double_scalars\n"
     ]
    },
    {
     "name": "stdout",
     "output_type": "stream",
     "text": [
      "0000000036,0000000036,0000044593,0000871875,0.90,0.60,581441,387309,15941,33607\n"
     ]
    },
    {
     "name": "stderr",
     "output_type": "stream",
     "text": [
      "/opt/conda/lib/python3.7/site-packages/ipykernel_launcher.py:19: RuntimeWarning: invalid value encountered in double_scalars\n"
     ]
    },
    {
     "name": "stdout",
     "output_type": "stream",
     "text": [
      "0000000036,0000000036,0000047070,0000920312,0.95,0.61,582739,386011,15913,33635\n"
     ]
    },
    {
     "name": "stderr",
     "output_type": "stream",
     "text": [
      "/opt/conda/lib/python3.7/site-packages/ipykernel_launcher.py:19: RuntimeWarning: invalid value encountered in double_scalars\n"
     ]
    },
    {
     "name": "stdout",
     "output_type": "stream",
     "text": [
      "0000000036,0000000036,0000049548,0000968750,1.00,0.57,549917,418833,15585,33963\n",
      "processing 2.benign.csv rows = 13113\n",
      "processing 2.gafgyt.combo.csv rows = 53012\n",
      "processing 2.gafgyt.junk.csv rows = 30312\n",
      "processing 2.gafgyt.scan.csv rows = 27494\n",
      "processing 2.gafgyt.tcp.csv rows = 95021\n",
      "processing 2.gafgyt.udp.csv rows = 104791\n",
      "processing 2.mirai.ack.csv rows = 113285\n",
      "processing 2.mirai.scan.csv rows = 43192\n",
      "processing 2.mirai.syn.csv rows = 116807\n",
      "processing 2.mirai.udp.csv rows = 151481\n",
      "processing 2.mirai.udpplain.csv rows = 87368\n",
      "Ecobee_Thermostat\n",
      "total features 115\n",
      "final features 33\n",
      "features_final,features_selected,count_norm,count_anom,count_frac,acc,tn,fp,fn,tp\n"
     ]
    },
    {
     "name": "stderr",
     "output_type": "stream",
     "text": [
      "/opt/conda/lib/python3.7/site-packages/ipykernel_launcher.py:19: RuntimeWarning: invalid value encountered in double_scalars\n"
     ]
    },
    {
     "name": "stdout",
     "output_type": "stream",
     "text": [
      "0000000033,0000000033,0000000000,0000000000,0.00,0.98,822038,725,13096,17\n"
     ]
    },
    {
     "name": "stderr",
     "output_type": "stream",
     "text": [
      "/opt/conda/lib/python3.7/site-packages/ipykernel_launcher.py:19: RuntimeWarning: invalid value encountered in double_scalars\n"
     ]
    },
    {
     "name": "stdout",
     "output_type": "stream",
     "text": [
      "0000000033,0000000033,0000000655,0000041138,0.05,0.66,545178,277585,5383,7730\n"
     ]
    },
    {
     "name": "stderr",
     "output_type": "stream",
     "text": [
      "/opt/conda/lib/python3.7/site-packages/ipykernel_launcher.py:19: RuntimeWarning: invalid value encountered in double_scalars\n"
     ]
    },
    {
     "name": "stdout",
     "output_type": "stream",
     "text": [
      "0000000033,0000000033,0000001311,0000082276,0.10,0.55,454358,368405,5021,8092\n"
     ]
    },
    {
     "name": "stderr",
     "output_type": "stream",
     "text": [
      "/opt/conda/lib/python3.7/site-packages/ipykernel_launcher.py:19: RuntimeWarning: invalid value encountered in double_scalars\n"
     ]
    },
    {
     "name": "stdout",
     "output_type": "stream",
     "text": [
      "0000000033,0000000033,0000001966,0000123414,0.15,0.54,446777,375986,4790,8323\n"
     ]
    },
    {
     "name": "stderr",
     "output_type": "stream",
     "text": [
      "/opt/conda/lib/python3.7/site-packages/ipykernel_launcher.py:19: RuntimeWarning: invalid value encountered in double_scalars\n"
     ]
    },
    {
     "name": "stdout",
     "output_type": "stream",
     "text": [
      "0000000033,0000000033,0000002622,0000164552,0.20,0.53,436939,385824,4577,8536\n"
     ]
    },
    {
     "name": "stderr",
     "output_type": "stream",
     "text": [
      "/opt/conda/lib/python3.7/site-packages/ipykernel_launcher.py:19: RuntimeWarning: invalid value encountered in double_scalars\n"
     ]
    },
    {
     "name": "stdout",
     "output_type": "stream",
     "text": [
      "0000000033,0000000033,0000003278,0000205690,0.25,0.52,428774,393989,4462,8651\n"
     ]
    },
    {
     "name": "stderr",
     "output_type": "stream",
     "text": [
      "/opt/conda/lib/python3.7/site-packages/ipykernel_launcher.py:19: RuntimeWarning: invalid value encountered in double_scalars\n"
     ]
    },
    {
     "name": "stdout",
     "output_type": "stream",
     "text": [
      "0000000033,0000000033,0000003933,0000246828,0.30,0.51,419614,403149,4324,8789\n"
     ]
    },
    {
     "name": "stderr",
     "output_type": "stream",
     "text": [
      "/opt/conda/lib/python3.7/site-packages/ipykernel_launcher.py:19: RuntimeWarning: invalid value encountered in double_scalars\n"
     ]
    },
    {
     "name": "stdout",
     "output_type": "stream",
     "text": [
      "0000000033,0000000033,0000004589,0000287967,0.35,0.50,406638,416125,4117,8996\n"
     ]
    },
    {
     "name": "stderr",
     "output_type": "stream",
     "text": [
      "/opt/conda/lib/python3.7/site-packages/ipykernel_launcher.py:19: RuntimeWarning: invalid value encountered in double_scalars\n"
     ]
    },
    {
     "name": "stdout",
     "output_type": "stream",
     "text": [
      "0000000033,0000000033,0000005245,0000329105,0.40,0.48,396362,426401,4094,9019\n"
     ]
    },
    {
     "name": "stderr",
     "output_type": "stream",
     "text": [
      "/opt/conda/lib/python3.7/site-packages/ipykernel_launcher.py:19: RuntimeWarning: invalid value encountered in double_scalars\n"
     ]
    },
    {
     "name": "stdout",
     "output_type": "stream",
     "text": [
      "0000000033,0000000033,0000005900,0000370243,0.45,0.46,379412,443351,3977,9136\n"
     ]
    },
    {
     "name": "stderr",
     "output_type": "stream",
     "text": [
      "/opt/conda/lib/python3.7/site-packages/ipykernel_launcher.py:19: RuntimeWarning: invalid value encountered in double_scalars\n"
     ]
    },
    {
     "name": "stdout",
     "output_type": "stream",
     "text": [
      "0000000033,0000000033,0000006556,0000411381,0.50,0.42,338078,484685,3751,9362\n"
     ]
    },
    {
     "name": "stderr",
     "output_type": "stream",
     "text": [
      "/opt/conda/lib/python3.7/site-packages/ipykernel_launcher.py:19: RuntimeWarning: invalid value encountered in double_scalars\n"
     ]
    },
    {
     "name": "stdout",
     "output_type": "stream",
     "text": [
      "0000000033,0000000033,0000007212,0000452519,0.55,0.39,315966,506797,3702,9411\n"
     ]
    },
    {
     "name": "stderr",
     "output_type": "stream",
     "text": [
      "/opt/conda/lib/python3.7/site-packages/ipykernel_launcher.py:19: RuntimeWarning: invalid value encountered in double_scalars\n"
     ]
    },
    {
     "name": "stdout",
     "output_type": "stream",
     "text": [
      "0000000033,0000000033,0000007867,0000493657,0.60,0.36,295104,527659,3655,9458\n"
     ]
    },
    {
     "name": "stderr",
     "output_type": "stream",
     "text": [
      "/opt/conda/lib/python3.7/site-packages/ipykernel_launcher.py:19: RuntimeWarning: invalid value encountered in double_scalars\n"
     ]
    },
    {
     "name": "stdout",
     "output_type": "stream",
     "text": [
      "0000000033,0000000033,0000008523,0000534795,0.65,0.34,274801,547962,3635,9478\n"
     ]
    },
    {
     "name": "stderr",
     "output_type": "stream",
     "text": [
      "/opt/conda/lib/python3.7/site-packages/ipykernel_launcher.py:19: RuntimeWarning: invalid value encountered in double_scalars\n"
     ]
    },
    {
     "name": "stdout",
     "output_type": "stream",
     "text": [
      "0000000033,0000000033,0000009179,0000575934,0.70,0.30,244902,577861,3584,9529\n"
     ]
    },
    {
     "name": "stderr",
     "output_type": "stream",
     "text": [
      "/opt/conda/lib/python3.7/site-packages/ipykernel_launcher.py:19: RuntimeWarning: invalid value encountered in double_scalars\n"
     ]
    },
    {
     "name": "stdout",
     "output_type": "stream",
     "text": [
      "0000000033,0000000033,0000009834,0000617072,0.75,0.27,217138,605625,3550,9563\n"
     ]
    },
    {
     "name": "stderr",
     "output_type": "stream",
     "text": [
      "/opt/conda/lib/python3.7/site-packages/ipykernel_launcher.py:19: RuntimeWarning: invalid value encountered in double_scalars\n"
     ]
    },
    {
     "name": "stdout",
     "output_type": "stream",
     "text": [
      "0000000033,0000000033,0000010490,0000658210,0.80,0.23,182890,639873,3513,9600\n"
     ]
    },
    {
     "name": "stderr",
     "output_type": "stream",
     "text": [
      "/opt/conda/lib/python3.7/site-packages/ipykernel_launcher.py:19: RuntimeWarning: invalid value encountered in double_scalars\n"
     ]
    },
    {
     "name": "stdout",
     "output_type": "stream",
     "text": [
      "0000000033,0000000033,0000011146,0000699348,0.85,0.19,147516,675247,3457,9656\n"
     ]
    },
    {
     "name": "stderr",
     "output_type": "stream",
     "text": [
      "/opt/conda/lib/python3.7/site-packages/ipykernel_launcher.py:19: RuntimeWarning: invalid value encountered in double_scalars\n"
     ]
    },
    {
     "name": "stdout",
     "output_type": "stream",
     "text": [
      "0000000033,0000000033,0000011801,0000740486,0.90,0.16,121823,700940,3426,9687\n"
     ]
    },
    {
     "name": "stderr",
     "output_type": "stream",
     "text": [
      "/opt/conda/lib/python3.7/site-packages/ipykernel_launcher.py:19: RuntimeWarning: invalid value encountered in double_scalars\n"
     ]
    },
    {
     "name": "stdout",
     "output_type": "stream",
     "text": [
      "0000000033,0000000033,0000012457,0000781624,0.95,0.13,102345,720418,3402,9711\n"
     ]
    },
    {
     "name": "stderr",
     "output_type": "stream",
     "text": [
      "/opt/conda/lib/python3.7/site-packages/ipykernel_launcher.py:19: RuntimeWarning: invalid value encountered in double_scalars\n"
     ]
    },
    {
     "name": "stdout",
     "output_type": "stream",
     "text": [
      "0000000033,0000000033,0000013113,0000822763,1.00,0.12,90401,732362,3387,9726\n",
      "processing 3.benign.csv rows = 39100\n",
      "processing 3.gafgyt.combo.csv rows = 53014\n",
      "processing 3.gafgyt.junk.csv rows = 29797\n",
      "processing 3.gafgyt.scan.csv rows = 28120\n",
      "processing 3.gafgyt.tcp.csv rows = 101536\n",
      "processing 3.gafgyt.udp.csv rows = 103933\n",
      "Ennio_Doorbell\n",
      "total features 115\n",
      "final features 48\n",
      "features_final,features_selected,count_norm,count_anom,count_frac,acc,tn,fp,fn,tp\n"
     ]
    },
    {
     "name": "stderr",
     "output_type": "stream",
     "text": [
      "/opt/conda/lib/python3.7/site-packages/ipykernel_launcher.py:19: RuntimeWarning: invalid value encountered in double_scalars\n"
     ]
    },
    {
     "name": "stdout",
     "output_type": "stream",
     "text": [
      "0000000048,0000000048,0000000000,0000000000,0.00,0.31,111138,205262,39086,14\n"
     ]
    },
    {
     "name": "stderr",
     "output_type": "stream",
     "text": [
      "/opt/conda/lib/python3.7/site-packages/ipykernel_launcher.py:19: RuntimeWarning: invalid value encountered in double_scalars\n"
     ]
    },
    {
     "name": "stdout",
     "output_type": "stream",
     "text": [
      "0000000048,0000000048,0000001955,0000015820,0.05,0.73,234633,81767,15374,23726\n"
     ]
    },
    {
     "name": "stderr",
     "output_type": "stream",
     "text": [
      "/opt/conda/lib/python3.7/site-packages/ipykernel_launcher.py:19: RuntimeWarning: invalid value encountered in double_scalars\n"
     ]
    },
    {
     "name": "stdout",
     "output_type": "stream",
     "text": [
      "0000000048,0000000048,0000003910,0000031640,0.10,0.71,226678,89722,12291,26809\n"
     ]
    },
    {
     "name": "stderr",
     "output_type": "stream",
     "text": [
      "/opt/conda/lib/python3.7/site-packages/ipykernel_launcher.py:19: RuntimeWarning: invalid value encountered in double_scalars\n"
     ]
    },
    {
     "name": "stdout",
     "output_type": "stream",
     "text": [
      "0000000048,0000000048,0000005865,0000047460,0.15,0.71,224782,91618,11077,28023\n"
     ]
    },
    {
     "name": "stderr",
     "output_type": "stream",
     "text": [
      "/opt/conda/lib/python3.7/site-packages/ipykernel_launcher.py:19: RuntimeWarning: invalid value encountered in double_scalars\n"
     ]
    },
    {
     "name": "stdout",
     "output_type": "stream",
     "text": [
      "0000000048,0000000048,0000007820,0000063280,0.20,0.71,224404,91996,10468,28632\n"
     ]
    },
    {
     "name": "stderr",
     "output_type": "stream",
     "text": [
      "/opt/conda/lib/python3.7/site-packages/ipykernel_launcher.py:19: RuntimeWarning: invalid value encountered in double_scalars\n"
     ]
    },
    {
     "name": "stdout",
     "output_type": "stream",
     "text": [
      "0000000048,0000000048,0000009775,0000079100,0.25,0.71,224184,92216,9823,29277\n"
     ]
    },
    {
     "name": "stderr",
     "output_type": "stream",
     "text": [
      "/opt/conda/lib/python3.7/site-packages/ipykernel_launcher.py:19: RuntimeWarning: invalid value encountered in double_scalars\n"
     ]
    },
    {
     "name": "stdout",
     "output_type": "stream",
     "text": [
      "0000000048,0000000048,0000011730,0000094920,0.30,0.71,224126,92274,9679,29421\n"
     ]
    },
    {
     "name": "stderr",
     "output_type": "stream",
     "text": [
      "/opt/conda/lib/python3.7/site-packages/ipykernel_launcher.py:19: RuntimeWarning: invalid value encountered in double_scalars\n"
     ]
    },
    {
     "name": "stdout",
     "output_type": "stream",
     "text": [
      "0000000048,0000000048,0000013685,0000110740,0.35,0.71,224103,92297,9598,29502\n"
     ]
    },
    {
     "name": "stderr",
     "output_type": "stream",
     "text": [
      "/opt/conda/lib/python3.7/site-packages/ipykernel_launcher.py:19: RuntimeWarning: invalid value encountered in double_scalars\n"
     ]
    },
    {
     "name": "stdout",
     "output_type": "stream",
     "text": [
      "0000000048,0000000048,0000015639,0000126559,0.40,0.71,224113,92287,9926,29174\n"
     ]
    },
    {
     "name": "stderr",
     "output_type": "stream",
     "text": [
      "/opt/conda/lib/python3.7/site-packages/ipykernel_launcher.py:19: RuntimeWarning: invalid value encountered in double_scalars\n"
     ]
    },
    {
     "name": "stdout",
     "output_type": "stream",
     "text": [
      "0000000048,0000000048,0000017595,0000142380,0.45,0.13,18826,297574,9972,29128\n"
     ]
    },
    {
     "name": "stderr",
     "output_type": "stream",
     "text": [
      "/opt/conda/lib/python3.7/site-packages/ipykernel_launcher.py:19: RuntimeWarning: invalid value encountered in double_scalars\n"
     ]
    },
    {
     "name": "stdout",
     "output_type": "stream",
     "text": [
      "0000000048,0000000048,0000019549,0000158199,0.50,0.13,18792,297608,9932,29168\n"
     ]
    },
    {
     "name": "stderr",
     "output_type": "stream",
     "text": [
      "/opt/conda/lib/python3.7/site-packages/ipykernel_launcher.py:19: RuntimeWarning: invalid value encountered in double_scalars\n"
     ]
    },
    {
     "name": "stdout",
     "output_type": "stream",
     "text": [
      "0000000048,0000000048,0000021504,0000174019,0.55,0.13,18797,297603,10123,28977\n"
     ]
    },
    {
     "name": "stderr",
     "output_type": "stream",
     "text": [
      "/opt/conda/lib/python3.7/site-packages/ipykernel_launcher.py:19: RuntimeWarning: invalid value encountered in double_scalars\n"
     ]
    },
    {
     "name": "stdout",
     "output_type": "stream",
     "text": [
      "0000000048,0000000048,0000023460,0000189840,0.60,0.13,18570,297830,10282,28818\n"
     ]
    },
    {
     "name": "stderr",
     "output_type": "stream",
     "text": [
      "/opt/conda/lib/python3.7/site-packages/ipykernel_launcher.py:19: RuntimeWarning: invalid value encountered in double_scalars\n"
     ]
    },
    {
     "name": "stdout",
     "output_type": "stream",
     "text": [
      "0000000048,0000000048,0000025415,0000205660,0.65,0.13,16369,300031,10340,28760\n"
     ]
    },
    {
     "name": "stderr",
     "output_type": "stream",
     "text": [
      "/opt/conda/lib/python3.7/site-packages/ipykernel_launcher.py:19: RuntimeWarning: invalid value encountered in double_scalars\n"
     ]
    },
    {
     "name": "stdout",
     "output_type": "stream",
     "text": [
      "0000000048,0000000048,0000027370,0000221480,0.70,0.12,13886,302514,10401,28699\n"
     ]
    },
    {
     "name": "stderr",
     "output_type": "stream",
     "text": [
      "/opt/conda/lib/python3.7/site-packages/ipykernel_launcher.py:19: RuntimeWarning: invalid value encountered in double_scalars\n"
     ]
    },
    {
     "name": "stdout",
     "output_type": "stream",
     "text": [
      "0000000048,0000000048,0000029325,0000237300,0.75,0.12,13441,302959,10561,28539\n"
     ]
    },
    {
     "name": "stderr",
     "output_type": "stream",
     "text": [
      "/opt/conda/lib/python3.7/site-packages/ipykernel_launcher.py:19: RuntimeWarning: invalid value encountered in double_scalars\n"
     ]
    },
    {
     "name": "stdout",
     "output_type": "stream",
     "text": [
      "0000000048,0000000048,0000031280,0000253120,0.80,0.12,12597,303803,10654,28446\n"
     ]
    },
    {
     "name": "stderr",
     "output_type": "stream",
     "text": [
      "/opt/conda/lib/python3.7/site-packages/ipykernel_launcher.py:19: RuntimeWarning: invalid value encountered in double_scalars\n"
     ]
    },
    {
     "name": "stdout",
     "output_type": "stream",
     "text": [
      "0000000048,0000000048,0000033235,0000268940,0.85,0.11,12453,303947,10788,28312\n"
     ]
    },
    {
     "name": "stderr",
     "output_type": "stream",
     "text": [
      "/opt/conda/lib/python3.7/site-packages/ipykernel_launcher.py:19: RuntimeWarning: invalid value encountered in double_scalars\n"
     ]
    },
    {
     "name": "stdout",
     "output_type": "stream",
     "text": [
      "0000000048,0000000048,0000035190,0000284760,0.90,0.11,11952,304448,10837,28263\n"
     ]
    },
    {
     "name": "stderr",
     "output_type": "stream",
     "text": [
      "/opt/conda/lib/python3.7/site-packages/ipykernel_launcher.py:19: RuntimeWarning: invalid value encountered in double_scalars\n"
     ]
    },
    {
     "name": "stdout",
     "output_type": "stream",
     "text": [
      "0000000048,0000000048,0000037145,0000300580,0.95,0.11,11812,304588,10921,28179\n"
     ]
    },
    {
     "name": "stderr",
     "output_type": "stream",
     "text": [
      "/opt/conda/lib/python3.7/site-packages/ipykernel_launcher.py:19: RuntimeWarning: invalid value encountered in double_scalars\n"
     ]
    },
    {
     "name": "stdout",
     "output_type": "stream",
     "text": [
      "0000000048,0000000048,0000039100,0000316400,1.00,0.11,11570,304830,10903,28197\n",
      "processing 4.benign.csv rows = 175240\n",
      "processing 4.gafgyt.combo.csv rows = 58152\n",
      "processing 4.gafgyt.junk.csv rows = 28349\n",
      "processing 4.gafgyt.scan.csv rows = 27859\n",
      "processing 4.gafgyt.tcp.csv rows = 92581\n",
      "processing 4.gafgyt.udp.csv rows = 105782\n",
      "processing 4.mirai.ack.csv rows = 91123\n",
      "processing 4.mirai.scan.csv rows = 103621\n",
      "processing 4.mirai.syn.csv rows = 118128\n",
      "processing 4.mirai.udp.csv rows = 217034\n",
      "processing 4.mirai.udpplain.csv rows = 80808\n",
      "Philips_B120N10_Baby_Monitor\n",
      "total features 115\n",
      "final features 40\n",
      "features_final,features_selected,count_norm,count_anom,count_frac,acc,tn,fp,fn,tp\n"
     ]
    },
    {
     "name": "stderr",
     "output_type": "stream",
     "text": [
      "/opt/conda/lib/python3.7/site-packages/ipykernel_launcher.py:19: RuntimeWarning: invalid value encountered in double_scalars\n"
     ]
    },
    {
     "name": "stdout",
     "output_type": "stream",
     "text": [
      "0000000040,0000000040,0000000000,0000000000,0.00,0.84,923082,355,175187,53\n"
     ]
    },
    {
     "name": "stderr",
     "output_type": "stream",
     "text": [
      "/opt/conda/lib/python3.7/site-packages/ipykernel_launcher.py:19: RuntimeWarning: invalid value encountered in double_scalars\n"
     ]
    },
    {
     "name": "stdout",
     "output_type": "stream",
     "text": [
      "0000000040,0000000040,0000008762,0000046171,0.05,0.67,592918,330519,36785,138455\n"
     ]
    },
    {
     "name": "stderr",
     "output_type": "stream",
     "text": [
      "/opt/conda/lib/python3.7/site-packages/ipykernel_launcher.py:19: RuntimeWarning: invalid value encountered in double_scalars\n"
     ]
    },
    {
     "name": "stdout",
     "output_type": "stream",
     "text": [
      "0000000040,0000000040,0000017524,0000092343,0.10,0.66,581583,341854,36042,139198\n"
     ]
    },
    {
     "name": "stderr",
     "output_type": "stream",
     "text": [
      "/opt/conda/lib/python3.7/site-packages/ipykernel_launcher.py:19: RuntimeWarning: invalid value encountered in double_scalars\n"
     ]
    },
    {
     "name": "stdout",
     "output_type": "stream",
     "text": [
      "0000000040,0000000040,0000026286,0000138515,0.15,0.66,586911,336526,38169,137071\n"
     ]
    },
    {
     "name": "stderr",
     "output_type": "stream",
     "text": [
      "/opt/conda/lib/python3.7/site-packages/ipykernel_launcher.py:19: RuntimeWarning: invalid value encountered in double_scalars\n"
     ]
    },
    {
     "name": "stdout",
     "output_type": "stream",
     "text": [
      "0000000040,0000000040,0000035048,0000184687,0.20,0.66,589302,334135,40183,135057\n"
     ]
    },
    {
     "name": "stderr",
     "output_type": "stream",
     "text": [
      "/opt/conda/lib/python3.7/site-packages/ipykernel_launcher.py:19: RuntimeWarning: invalid value encountered in double_scalars\n"
     ]
    },
    {
     "name": "stdout",
     "output_type": "stream",
     "text": [
      "0000000040,0000000040,0000043810,0000230859,0.25,0.66,589134,334303,41225,134015\n"
     ]
    },
    {
     "name": "stderr",
     "output_type": "stream",
     "text": [
      "/opt/conda/lib/python3.7/site-packages/ipykernel_launcher.py:19: RuntimeWarning: invalid value encountered in double_scalars\n"
     ]
    },
    {
     "name": "stdout",
     "output_type": "stream",
     "text": [
      "0000000040,0000000040,0000052572,0000277031,0.30,0.66,586707,336730,41672,133568\n"
     ]
    },
    {
     "name": "stderr",
     "output_type": "stream",
     "text": [
      "/opt/conda/lib/python3.7/site-packages/ipykernel_launcher.py:19: RuntimeWarning: invalid value encountered in double_scalars\n"
     ]
    },
    {
     "name": "stdout",
     "output_type": "stream",
     "text": [
      "0000000040,0000000040,0000061333,0000323202,0.35,0.62,544011,379426,38098,137142\n"
     ]
    },
    {
     "name": "stderr",
     "output_type": "stream",
     "text": [
      "/opt/conda/lib/python3.7/site-packages/ipykernel_launcher.py:19: RuntimeWarning: invalid value encountered in double_scalars\n"
     ]
    },
    {
     "name": "stdout",
     "output_type": "stream",
     "text": [
      "0000000040,0000000040,0000070096,0000369374,0.40,0.58,497972,425465,36375,138865\n"
     ]
    },
    {
     "name": "stderr",
     "output_type": "stream",
     "text": [
      "/opt/conda/lib/python3.7/site-packages/ipykernel_launcher.py:19: RuntimeWarning: invalid value encountered in double_scalars\n"
     ]
    },
    {
     "name": "stdout",
     "output_type": "stream",
     "text": [
      "0000000040,0000000040,0000078857,0000415546,0.45,0.59,511636,411801,37624,137616\n"
     ]
    },
    {
     "name": "stderr",
     "output_type": "stream",
     "text": [
      "/opt/conda/lib/python3.7/site-packages/ipykernel_launcher.py:19: RuntimeWarning: invalid value encountered in double_scalars\n"
     ]
    },
    {
     "name": "stdout",
     "output_type": "stream",
     "text": [
      "0000000040,0000000040,0000087619,0000461718,0.50,0.60,527943,395494,38847,136393\n"
     ]
    },
    {
     "name": "stderr",
     "output_type": "stream",
     "text": [
      "/opt/conda/lib/python3.7/site-packages/ipykernel_launcher.py:19: RuntimeWarning: invalid value encountered in double_scalars\n"
     ]
    },
    {
     "name": "stdout",
     "output_type": "stream",
     "text": [
      "0000000040,0000000040,0000096381,0000507890,0.55,0.61,537403,386034,39708,135532\n"
     ]
    },
    {
     "name": "stderr",
     "output_type": "stream",
     "text": [
      "/opt/conda/lib/python3.7/site-packages/ipykernel_launcher.py:19: RuntimeWarning: invalid value encountered in double_scalars\n"
     ]
    },
    {
     "name": "stdout",
     "output_type": "stream",
     "text": [
      "0000000040,0000000040,0000105144,0000554062,0.60,0.62,546884,376553,40684,134556\n"
     ]
    },
    {
     "name": "stderr",
     "output_type": "stream",
     "text": [
      "/opt/conda/lib/python3.7/site-packages/ipykernel_launcher.py:19: RuntimeWarning: invalid value encountered in double_scalars\n"
     ]
    },
    {
     "name": "stdout",
     "output_type": "stream",
     "text": [
      "0000000040,0000000040,0000113906,0000600234,0.65,0.61,531925,391512,40094,135146\n"
     ]
    },
    {
     "name": "stderr",
     "output_type": "stream",
     "text": [
      "/opt/conda/lib/python3.7/site-packages/ipykernel_launcher.py:19: RuntimeWarning: invalid value encountered in double_scalars\n"
     ]
    },
    {
     "name": "stdout",
     "output_type": "stream",
     "text": [
      "0000000040,0000000040,0000122668,0000646405,0.70,0.58,504359,419078,39001,136239\n"
     ]
    },
    {
     "name": "stderr",
     "output_type": "stream",
     "text": [
      "/opt/conda/lib/python3.7/site-packages/ipykernel_launcher.py:19: RuntimeWarning: invalid value encountered in double_scalars\n"
     ]
    },
    {
     "name": "stdout",
     "output_type": "stream",
     "text": [
      "0000000040,0000000040,0000131430,0000692577,0.75,0.57,483572,439865,38018,137222\n"
     ]
    },
    {
     "name": "stderr",
     "output_type": "stream",
     "text": [
      "/opt/conda/lib/python3.7/site-packages/ipykernel_launcher.py:19: RuntimeWarning: invalid value encountered in double_scalars\n"
     ]
    },
    {
     "name": "stdout",
     "output_type": "stream",
     "text": [
      "0000000040,0000000040,0000140192,0000738749,0.80,0.56,477609,445828,37779,137461\n"
     ]
    },
    {
     "name": "stderr",
     "output_type": "stream",
     "text": [
      "/opt/conda/lib/python3.7/site-packages/ipykernel_launcher.py:19: RuntimeWarning: invalid value encountered in double_scalars\n"
     ]
    },
    {
     "name": "stdout",
     "output_type": "stream",
     "text": [
      "0000000040,0000000040,0000148954,0000784921,0.85,0.56,483626,439811,38535,136705\n"
     ]
    },
    {
     "name": "stderr",
     "output_type": "stream",
     "text": [
      "/opt/conda/lib/python3.7/site-packages/ipykernel_launcher.py:19: RuntimeWarning: invalid value encountered in double_scalars\n"
     ]
    },
    {
     "name": "stdout",
     "output_type": "stream",
     "text": [
      "0000000040,0000000040,0000157716,0000831093,0.90,0.57,488293,435144,39066,136174\n"
     ]
    },
    {
     "name": "stderr",
     "output_type": "stream",
     "text": [
      "/opt/conda/lib/python3.7/site-packages/ipykernel_launcher.py:19: RuntimeWarning: invalid value encountered in double_scalars\n"
     ]
    },
    {
     "name": "stdout",
     "output_type": "stream",
     "text": [
      "0000000040,0000000040,0000166478,0000877265,0.95,0.57,486623,436814,39160,136080\n"
     ]
    },
    {
     "name": "stderr",
     "output_type": "stream",
     "text": [
      "/opt/conda/lib/python3.7/site-packages/ipykernel_launcher.py:19: RuntimeWarning: invalid value encountered in double_scalars\n"
     ]
    },
    {
     "name": "stdout",
     "output_type": "stream",
     "text": [
      "0000000040,0000000040,0000175240,0000923437,1.00,0.55,464011,459426,37532,137708\n",
      "processing 5.benign.csv rows = 62154\n",
      "processing 5.gafgyt.combo.csv rows = 61380\n",
      "processing 5.gafgyt.junk.csv rows = 30898\n",
      "processing 5.gafgyt.scan.csv rows = 29297\n",
      "processing 5.gafgyt.tcp.csv rows = 104510\n",
      "processing 5.gafgyt.udp.csv rows = 104011\n",
      "processing 5.mirai.ack.csv rows = 60554\n",
      "processing 5.mirai.scan.csv rows = 96781\n",
      "processing 5.mirai.syn.csv rows = 65746\n",
      "processing 5.mirai.udp.csv rows = 156248\n",
      "processing 5.mirai.udpplain.csv rows = 56681\n",
      "Provision_PT_737E_Security_Camera\n",
      "total features 115\n",
      "final features 30\n",
      "features_final,features_selected,count_norm,count_anom,count_frac,acc,tn,fp,fn,tp\n"
     ]
    },
    {
     "name": "stderr",
     "output_type": "stream",
     "text": [
      "/opt/conda/lib/python3.7/site-packages/ipykernel_launcher.py:19: RuntimeWarning: invalid value encountered in double_scalars\n"
     ]
    },
    {
     "name": "stdout",
     "output_type": "stream",
     "text": [
      "0000000030,0000000030,0000000000,0000000000,0.00,0.94,766106,0,51499,10655\n"
     ]
    },
    {
     "name": "stderr",
     "output_type": "stream",
     "text": [
      "/opt/conda/lib/python3.7/site-packages/ipykernel_launcher.py:19: RuntimeWarning: invalid value encountered in double_scalars\n"
     ]
    },
    {
     "name": "stdout",
     "output_type": "stream",
     "text": [
      "0000000030,0000000030,0000003107,0000038305,0.05,0.70,548316,217790,27699,34455\n"
     ]
    },
    {
     "name": "stderr",
     "output_type": "stream",
     "text": [
      "/opt/conda/lib/python3.7/site-packages/ipykernel_launcher.py:19: RuntimeWarning: invalid value encountered in double_scalars\n"
     ]
    },
    {
     "name": "stdout",
     "output_type": "stream",
     "text": [
      "0000000030,0000000030,0000006215,0000076610,0.10,0.70,541694,224412,25223,36931\n"
     ]
    },
    {
     "name": "stderr",
     "output_type": "stream",
     "text": [
      "/opt/conda/lib/python3.7/site-packages/ipykernel_launcher.py:19: RuntimeWarning: invalid value encountered in double_scalars\n"
     ]
    },
    {
     "name": "stdout",
     "output_type": "stream",
     "text": [
      "0000000030,0000000030,0000009323,0000114915,0.15,0.65,502898,263208,23693,38461\n"
     ]
    },
    {
     "name": "stderr",
     "output_type": "stream",
     "text": [
      "/opt/conda/lib/python3.7/site-packages/ipykernel_launcher.py:19: RuntimeWarning: invalid value encountered in double_scalars\n"
     ]
    },
    {
     "name": "stdout",
     "output_type": "stream",
     "text": [
      "0000000030,0000000030,0000012430,0000153221,0.20,0.51,381615,384491,22701,39453\n"
     ]
    },
    {
     "name": "stderr",
     "output_type": "stream",
     "text": [
      "/opt/conda/lib/python3.7/site-packages/ipykernel_launcher.py:19: RuntimeWarning: invalid value encountered in double_scalars\n"
     ]
    },
    {
     "name": "stdout",
     "output_type": "stream",
     "text": [
      "0000000030,0000000030,0000015538,0000191526,0.25,0.43,311739,454367,21881,40273\n"
     ]
    },
    {
     "name": "stderr",
     "output_type": "stream",
     "text": [
      "/opt/conda/lib/python3.7/site-packages/ipykernel_launcher.py:19: RuntimeWarning: invalid value encountered in double_scalars\n"
     ]
    },
    {
     "name": "stdout",
     "output_type": "stream",
     "text": [
      "0000000030,0000000030,0000018646,0000229831,0.30,0.39,278463,487643,21121,41033\n"
     ]
    },
    {
     "name": "stderr",
     "output_type": "stream",
     "text": [
      "/opt/conda/lib/python3.7/site-packages/ipykernel_launcher.py:19: RuntimeWarning: invalid value encountered in double_scalars\n"
     ]
    },
    {
     "name": "stdout",
     "output_type": "stream",
     "text": [
      "0000000030,0000000030,0000021753,0000268137,0.35,0.38,270172,495934,20713,41441\n"
     ]
    },
    {
     "name": "stderr",
     "output_type": "stream",
     "text": [
      "/opt/conda/lib/python3.7/site-packages/ipykernel_launcher.py:19: RuntimeWarning: invalid value encountered in double_scalars\n"
     ]
    },
    {
     "name": "stdout",
     "output_type": "stream",
     "text": [
      "0000000030,0000000030,0000024861,0000306442,0.40,0.37,264417,501689,20277,41877\n"
     ]
    },
    {
     "name": "stderr",
     "output_type": "stream",
     "text": [
      "/opt/conda/lib/python3.7/site-packages/ipykernel_launcher.py:19: RuntimeWarning: invalid value encountered in double_scalars\n"
     ]
    },
    {
     "name": "stdout",
     "output_type": "stream",
     "text": [
      "0000000030,0000000030,0000027969,0000344747,0.45,0.36,259667,506439,19970,42184\n"
     ]
    },
    {
     "name": "stderr",
     "output_type": "stream",
     "text": [
      "/opt/conda/lib/python3.7/site-packages/ipykernel_launcher.py:19: RuntimeWarning: invalid value encountered in double_scalars\n"
     ]
    },
    {
     "name": "stdout",
     "output_type": "stream",
     "text": [
      "0000000030,0000000030,0000031076,0000383052,0.50,0.36,254252,511854,19712,42442\n"
     ]
    },
    {
     "name": "stderr",
     "output_type": "stream",
     "text": [
      "/opt/conda/lib/python3.7/site-packages/ipykernel_launcher.py:19: RuntimeWarning: invalid value encountered in double_scalars\n"
     ]
    },
    {
     "name": "stdout",
     "output_type": "stream",
     "text": [
      "0000000030,0000000030,0000034184,0000421358,0.55,0.35,248717,517389,19469,42685\n"
     ]
    },
    {
     "name": "stderr",
     "output_type": "stream",
     "text": [
      "/opt/conda/lib/python3.7/site-packages/ipykernel_launcher.py:19: RuntimeWarning: invalid value encountered in double_scalars\n"
     ]
    },
    {
     "name": "stdout",
     "output_type": "stream",
     "text": [
      "0000000030,0000000030,0000037292,0000459663,0.60,0.34,242729,523377,19247,42907\n"
     ]
    },
    {
     "name": "stderr",
     "output_type": "stream",
     "text": [
      "/opt/conda/lib/python3.7/site-packages/ipykernel_launcher.py:19: RuntimeWarning: invalid value encountered in double_scalars\n"
     ]
    },
    {
     "name": "stdout",
     "output_type": "stream",
     "text": [
      "0000000030,0000000030,0000040400,0000497968,0.65,0.34,235275,530831,18948,43206\n"
     ]
    },
    {
     "name": "stderr",
     "output_type": "stream",
     "text": [
      "/opt/conda/lib/python3.7/site-packages/ipykernel_launcher.py:19: RuntimeWarning: invalid value encountered in double_scalars\n"
     ]
    },
    {
     "name": "stdout",
     "output_type": "stream",
     "text": [
      "0000000030,0000000030,0000043507,0000536274,0.70,0.33,229089,537017,18800,43354\n"
     ]
    },
    {
     "name": "stderr",
     "output_type": "stream",
     "text": [
      "/opt/conda/lib/python3.7/site-packages/ipykernel_launcher.py:19: RuntimeWarning: invalid value encountered in double_scalars\n"
     ]
    },
    {
     "name": "stdout",
     "output_type": "stream",
     "text": [
      "0000000030,0000000030,0000046615,0000574579,0.75,0.32,223290,542816,18681,43473\n"
     ]
    },
    {
     "name": "stderr",
     "output_type": "stream",
     "text": [
      "/opt/conda/lib/python3.7/site-packages/ipykernel_launcher.py:19: RuntimeWarning: invalid value encountered in double_scalars\n"
     ]
    },
    {
     "name": "stdout",
     "output_type": "stream",
     "text": [
      "0000000030,0000000030,0000049723,0000612884,0.80,0.31,216990,549116,18507,43647\n"
     ]
    },
    {
     "name": "stderr",
     "output_type": "stream",
     "text": [
      "/opt/conda/lib/python3.7/site-packages/ipykernel_launcher.py:19: RuntimeWarning: invalid value encountered in double_scalars\n"
     ]
    },
    {
     "name": "stdout",
     "output_type": "stream",
     "text": [
      "0000000030,0000000030,0000052830,0000651190,0.85,0.31,211246,554860,18395,43759\n"
     ]
    },
    {
     "name": "stderr",
     "output_type": "stream",
     "text": [
      "/opt/conda/lib/python3.7/site-packages/ipykernel_launcher.py:19: RuntimeWarning: invalid value encountered in double_scalars\n"
     ]
    },
    {
     "name": "stdout",
     "output_type": "stream",
     "text": [
      "0000000030,0000000030,0000055938,0000689495,0.90,0.30,205698,560408,18299,43855\n"
     ]
    },
    {
     "name": "stderr",
     "output_type": "stream",
     "text": [
      "/opt/conda/lib/python3.7/site-packages/ipykernel_launcher.py:19: RuntimeWarning: invalid value encountered in double_scalars\n"
     ]
    },
    {
     "name": "stdout",
     "output_type": "stream",
     "text": [
      "0000000030,0000000030,0000059046,0000727800,0.95,0.30,200930,565176,18241,43913\n"
     ]
    },
    {
     "name": "stderr",
     "output_type": "stream",
     "text": [
      "/opt/conda/lib/python3.7/site-packages/ipykernel_launcher.py:19: RuntimeWarning: invalid value encountered in double_scalars\n"
     ]
    },
    {
     "name": "stdout",
     "output_type": "stream",
     "text": [
      "0000000030,0000000030,0000062154,0000766106,1.00,0.28,184619,581487,18145,44009\n",
      "processing 6.benign.csv rows = 98514\n",
      "processing 6.gafgyt.combo.csv rows = 57530\n",
      "processing 6.gafgyt.junk.csv rows = 29068\n",
      "processing 6.gafgyt.scan.csv rows = 28397\n",
      "processing 6.gafgyt.tcp.csv rows = 89387\n",
      "processing 6.gafgyt.udp.csv rows = 104658\n",
      "processing 6.mirai.ack.csv rows = 57997\n",
      "processing 6.mirai.scan.csv rows = 97096\n",
      "processing 6.mirai.syn.csv rows = 61851\n",
      "processing 6.mirai.udp.csv rows = 158608\n",
      "processing 6.mirai.udpplain.csv rows = 53785\n",
      "Provision_PT_838_Security_Camera\n",
      "total features 115\n",
      "final features 30\n",
      "features_final,features_selected,count_norm,count_anom,count_frac,acc,tn,fp,fn,tp\n"
     ]
    },
    {
     "name": "stderr",
     "output_type": "stream",
     "text": [
      "/opt/conda/lib/python3.7/site-packages/ipykernel_launcher.py:19: RuntimeWarning: invalid value encountered in double_scalars\n"
     ]
    },
    {
     "name": "stdout",
     "output_type": "stream",
     "text": [
      "0000000030,0000000030,0000000000,0000000000,0.00,0.89,738377,0,90282,8232\n"
     ]
    },
    {
     "name": "stderr",
     "output_type": "stream",
     "text": [
      "/opt/conda/lib/python3.7/site-packages/ipykernel_launcher.py:19: RuntimeWarning: invalid value encountered in double_scalars\n"
     ]
    },
    {
     "name": "stdout",
     "output_type": "stream",
     "text": [
      "0000000030,0000000030,0000004925,0000036918,0.05,0.71,542644,195733,47620,50894\n"
     ]
    },
    {
     "name": "stderr",
     "output_type": "stream",
     "text": [
      "/opt/conda/lib/python3.7/site-packages/ipykernel_launcher.py:19: RuntimeWarning: invalid value encountered in double_scalars\n"
     ]
    },
    {
     "name": "stdout",
     "output_type": "stream",
     "text": [
      "0000000030,0000000030,0000009851,0000073837,0.10,0.69,526050,212327,44815,53699\n"
     ]
    },
    {
     "name": "stderr",
     "output_type": "stream",
     "text": [
      "/opt/conda/lib/python3.7/site-packages/ipykernel_launcher.py:19: RuntimeWarning: invalid value encountered in double_scalars\n"
     ]
    },
    {
     "name": "stdout",
     "output_type": "stream",
     "text": [
      "0000000030,0000000030,0000014777,0000110756,0.15,0.66,493095,245282,43378,55136\n"
     ]
    },
    {
     "name": "stderr",
     "output_type": "stream",
     "text": [
      "/opt/conda/lib/python3.7/site-packages/ipykernel_launcher.py:19: RuntimeWarning: invalid value encountered in double_scalars\n"
     ]
    },
    {
     "name": "stdout",
     "output_type": "stream",
     "text": [
      "0000000030,0000000030,0000019702,0000147675,0.20,0.61,457481,280896,42174,56340\n"
     ]
    },
    {
     "name": "stderr",
     "output_type": "stream",
     "text": [
      "/opt/conda/lib/python3.7/site-packages/ipykernel_launcher.py:19: RuntimeWarning: invalid value encountered in double_scalars\n"
     ]
    },
    {
     "name": "stdout",
     "output_type": "stream",
     "text": [
      "0000000030,0000000030,0000024628,0000184594,0.25,0.58,431595,306782,41220,57294\n"
     ]
    },
    {
     "name": "stderr",
     "output_type": "stream",
     "text": [
      "/opt/conda/lib/python3.7/site-packages/ipykernel_launcher.py:19: RuntimeWarning: invalid value encountered in double_scalars\n"
     ]
    },
    {
     "name": "stdout",
     "output_type": "stream",
     "text": [
      "0000000030,0000000030,0000029554,0000221513,0.30,0.56,412338,326039,40598,57916\n"
     ]
    },
    {
     "name": "stderr",
     "output_type": "stream",
     "text": [
      "/opt/conda/lib/python3.7/site-packages/ipykernel_launcher.py:19: RuntimeWarning: invalid value encountered in double_scalars\n"
     ]
    },
    {
     "name": "stdout",
     "output_type": "stream",
     "text": [
      "0000000030,0000000030,0000034479,0000258431,0.35,0.53,383849,354528,39770,58744\n"
     ]
    },
    {
     "name": "stderr",
     "output_type": "stream",
     "text": [
      "/opt/conda/lib/python3.7/site-packages/ipykernel_launcher.py:19: RuntimeWarning: invalid value encountered in double_scalars\n"
     ]
    },
    {
     "name": "stdout",
     "output_type": "stream",
     "text": [
      "0000000030,0000000030,0000039405,0000295350,0.40,0.50,358237,380140,39301,59213\n"
     ]
    },
    {
     "name": "stderr",
     "output_type": "stream",
     "text": [
      "/opt/conda/lib/python3.7/site-packages/ipykernel_launcher.py:19: RuntimeWarning: invalid value encountered in double_scalars\n"
     ]
    },
    {
     "name": "stdout",
     "output_type": "stream",
     "text": [
      "0000000030,0000000030,0000044331,0000332269,0.45,0.47,330665,407712,38647,59867\n"
     ]
    },
    {
     "name": "stderr",
     "output_type": "stream",
     "text": [
      "/opt/conda/lib/python3.7/site-packages/ipykernel_launcher.py:19: RuntimeWarning: invalid value encountered in double_scalars\n"
     ]
    },
    {
     "name": "stdout",
     "output_type": "stream",
     "text": [
      "0000000030,0000000030,0000049256,0000369188,0.50,0.44,307879,430498,37938,60576\n"
     ]
    },
    {
     "name": "stderr",
     "output_type": "stream",
     "text": [
      "/opt/conda/lib/python3.7/site-packages/ipykernel_launcher.py:19: RuntimeWarning: invalid value encountered in double_scalars\n"
     ]
    },
    {
     "name": "stdout",
     "output_type": "stream",
     "text": [
      "0000000030,0000000030,0000054182,0000406107,0.55,0.41,284677,453700,37458,61056\n"
     ]
    },
    {
     "name": "stderr",
     "output_type": "stream",
     "text": [
      "/opt/conda/lib/python3.7/site-packages/ipykernel_launcher.py:19: RuntimeWarning: invalid value encountered in double_scalars\n"
     ]
    },
    {
     "name": "stdout",
     "output_type": "stream",
     "text": [
      "0000000030,0000000030,0000059108,0000443026,0.60,0.39,261116,477261,36935,61579\n"
     ]
    },
    {
     "name": "stderr",
     "output_type": "stream",
     "text": [
      "/opt/conda/lib/python3.7/site-packages/ipykernel_launcher.py:19: RuntimeWarning: invalid value encountered in double_scalars\n"
     ]
    },
    {
     "name": "stdout",
     "output_type": "stream",
     "text": [
      "0000000030,0000000030,0000064034,0000479945,0.65,0.36,236284,502093,36463,62051\n"
     ]
    },
    {
     "name": "stderr",
     "output_type": "stream",
     "text": [
      "/opt/conda/lib/python3.7/site-packages/ipykernel_launcher.py:19: RuntimeWarning: invalid value encountered in double_scalars\n"
     ]
    },
    {
     "name": "stdout",
     "output_type": "stream",
     "text": [
      "0000000030,0000000030,0000068959,0000516863,0.70,0.34,223948,514429,36230,62284\n"
     ]
    },
    {
     "name": "stderr",
     "output_type": "stream",
     "text": [
      "/opt/conda/lib/python3.7/site-packages/ipykernel_launcher.py:19: RuntimeWarning: invalid value encountered in double_scalars\n"
     ]
    },
    {
     "name": "stdout",
     "output_type": "stream",
     "text": [
      "0000000030,0000000030,0000073885,0000553782,0.75,0.33,210328,528049,35935,62579\n"
     ]
    },
    {
     "name": "stderr",
     "output_type": "stream",
     "text": [
      "/opt/conda/lib/python3.7/site-packages/ipykernel_launcher.py:19: RuntimeWarning: invalid value encountered in double_scalars\n"
     ]
    },
    {
     "name": "stdout",
     "output_type": "stream",
     "text": [
      "0000000030,0000000030,0000078811,0000590701,0.80,0.32,202406,535971,35734,62780\n"
     ]
    },
    {
     "name": "stderr",
     "output_type": "stream",
     "text": [
      "/opt/conda/lib/python3.7/site-packages/ipykernel_launcher.py:19: RuntimeWarning: invalid value encountered in double_scalars\n"
     ]
    },
    {
     "name": "stdout",
     "output_type": "stream",
     "text": [
      "0000000030,0000000030,0000083736,0000627620,0.85,0.31,196119,542258,35624,62890\n"
     ]
    },
    {
     "name": "stderr",
     "output_type": "stream",
     "text": [
      "/opt/conda/lib/python3.7/site-packages/ipykernel_launcher.py:19: RuntimeWarning: invalid value encountered in double_scalars\n"
     ]
    },
    {
     "name": "stdout",
     "output_type": "stream",
     "text": [
      "0000000030,0000000030,0000088662,0000664539,0.90,0.30,189754,548623,35526,62988\n"
     ]
    },
    {
     "name": "stderr",
     "output_type": "stream",
     "text": [
      "/opt/conda/lib/python3.7/site-packages/ipykernel_launcher.py:19: RuntimeWarning: invalid value encountered in double_scalars\n"
     ]
    },
    {
     "name": "stdout",
     "output_type": "stream",
     "text": [
      "0000000030,0000000030,0000093588,0000701458,0.95,0.29,183100,555277,35437,63077\n"
     ]
    },
    {
     "name": "stderr",
     "output_type": "stream",
     "text": [
      "/opt/conda/lib/python3.7/site-packages/ipykernel_launcher.py:19: RuntimeWarning: invalid value encountered in double_scalars\n"
     ]
    },
    {
     "name": "stdout",
     "output_type": "stream",
     "text": [
      "0000000030,0000000030,0000098514,0000738377,1.00,0.28,174351,564026,35253,63261\n",
      "processing 7.benign.csv rows = 52150\n",
      "processing 7.gafgyt.combo.csv rows = 58669\n",
      "processing 7.gafgyt.junk.csv rows = 28305\n",
      "processing 7.gafgyt.scan.csv rows = 27698\n",
      "processing 7.gafgyt.tcp.csv rows = 97783\n",
      "processing 7.gafgyt.udp.csv rows = 110617\n",
      "Samsung_SNH_1011_N_Webcam\n",
      "total features 115\n",
      "final features 45\n",
      "features_final,features_selected,count_norm,count_anom,count_frac,acc,tn,fp,fn,tp\n"
     ]
    },
    {
     "name": "stderr",
     "output_type": "stream",
     "text": [
      "/opt/conda/lib/python3.7/site-packages/ipykernel_launcher.py:19: RuntimeWarning: invalid value encountered in double_scalars\n"
     ]
    },
    {
     "name": "stdout",
     "output_type": "stream",
     "text": [
      "0000000045,0000000045,0000000000,0000000000,0.00,0.31,114879,208193,52146,4\n"
     ]
    },
    {
     "name": "stderr",
     "output_type": "stream",
     "text": [
      "/opt/conda/lib/python3.7/site-packages/ipykernel_launcher.py:19: RuntimeWarning: invalid value encountered in double_scalars\n"
     ]
    },
    {
     "name": "stdout",
     "output_type": "stream",
     "text": [
      "0000000045,0000000045,0000002607,0000016153,0.05,0.94,323072,0,23869,28281\n"
     ]
    },
    {
     "name": "stderr",
     "output_type": "stream",
     "text": [
      "/opt/conda/lib/python3.7/site-packages/ipykernel_launcher.py:19: RuntimeWarning: invalid value encountered in double_scalars\n"
     ]
    },
    {
     "name": "stdout",
     "output_type": "stream",
     "text": [
      "0000000045,0000000045,0000005215,0000032307,0.10,0.94,323072,0,22687,29463\n"
     ]
    },
    {
     "name": "stderr",
     "output_type": "stream",
     "text": [
      "/opt/conda/lib/python3.7/site-packages/ipykernel_launcher.py:19: RuntimeWarning: invalid value encountered in double_scalars\n"
     ]
    },
    {
     "name": "stdout",
     "output_type": "stream",
     "text": [
      "0000000045,0000000045,0000007822,0000048460,0.15,0.95,323072,0,20617,31533\n"
     ]
    },
    {
     "name": "stderr",
     "output_type": "stream",
     "text": [
      "/opt/conda/lib/python3.7/site-packages/ipykernel_launcher.py:19: RuntimeWarning: invalid value encountered in double_scalars\n"
     ]
    },
    {
     "name": "stdout",
     "output_type": "stream",
     "text": [
      "0000000045,0000000045,0000010430,0000064614,0.20,0.95,323072,0,20086,32064\n"
     ]
    },
    {
     "name": "stderr",
     "output_type": "stream",
     "text": [
      "/opt/conda/lib/python3.7/site-packages/ipykernel_launcher.py:19: RuntimeWarning: invalid value encountered in double_scalars\n"
     ]
    },
    {
     "name": "stdout",
     "output_type": "stream",
     "text": [
      "0000000045,0000000045,0000013037,0000080768,0.25,0.95,323072,0,20630,31520\n"
     ]
    },
    {
     "name": "stderr",
     "output_type": "stream",
     "text": [
      "/opt/conda/lib/python3.7/site-packages/ipykernel_launcher.py:19: RuntimeWarning: invalid value encountered in double_scalars\n"
     ]
    },
    {
     "name": "stdout",
     "output_type": "stream",
     "text": [
      "0000000045,0000000045,0000015645,0000096921,0.30,0.94,323072,0,21384,30766\n"
     ]
    },
    {
     "name": "stderr",
     "output_type": "stream",
     "text": [
      "/opt/conda/lib/python3.7/site-packages/ipykernel_launcher.py:19: RuntimeWarning: invalid value encountered in double_scalars\n"
     ]
    },
    {
     "name": "stdout",
     "output_type": "stream",
     "text": [
      "0000000045,0000000045,0000018252,0000113075,0.35,0.98,323067,5,8989,43161\n"
     ]
    },
    {
     "name": "stderr",
     "output_type": "stream",
     "text": [
      "/opt/conda/lib/python3.7/site-packages/ipykernel_launcher.py:19: RuntimeWarning: invalid value encountered in double_scalars\n"
     ]
    },
    {
     "name": "stdout",
     "output_type": "stream",
     "text": [
      "0000000045,0000000045,0000020860,0000129228,0.40,0.97,323068,4,9916,42234\n"
     ]
    },
    {
     "name": "stderr",
     "output_type": "stream",
     "text": [
      "/opt/conda/lib/python3.7/site-packages/ipykernel_launcher.py:19: RuntimeWarning: invalid value encountered in double_scalars\n"
     ]
    },
    {
     "name": "stdout",
     "output_type": "stream",
     "text": [
      "0000000045,0000000045,0000023467,0000145382,0.45,0.97,323068,4,10568,41582\n"
     ]
    },
    {
     "name": "stderr",
     "output_type": "stream",
     "text": [
      "/opt/conda/lib/python3.7/site-packages/ipykernel_launcher.py:19: RuntimeWarning: invalid value encountered in double_scalars\n"
     ]
    },
    {
     "name": "stdout",
     "output_type": "stream",
     "text": [
      "0000000045,0000000045,0000026074,0000161535,0.50,0.97,323068,4,10973,41177\n"
     ]
    },
    {
     "name": "stderr",
     "output_type": "stream",
     "text": [
      "/opt/conda/lib/python3.7/site-packages/ipykernel_launcher.py:19: RuntimeWarning: invalid value encountered in double_scalars\n"
     ]
    },
    {
     "name": "stdout",
     "output_type": "stream",
     "text": [
      "0000000045,0000000045,0000028682,0000177689,0.55,0.97,323068,4,11207,40943\n"
     ]
    },
    {
     "name": "stderr",
     "output_type": "stream",
     "text": [
      "/opt/conda/lib/python3.7/site-packages/ipykernel_launcher.py:19: RuntimeWarning: invalid value encountered in double_scalars\n"
     ]
    },
    {
     "name": "stdout",
     "output_type": "stream",
     "text": [
      "0000000045,0000000045,0000031290,0000193843,0.60,0.97,323068,4,11151,40999\n"
     ]
    },
    {
     "name": "stderr",
     "output_type": "stream",
     "text": [
      "/opt/conda/lib/python3.7/site-packages/ipykernel_launcher.py:19: RuntimeWarning: invalid value encountered in double_scalars\n"
     ]
    },
    {
     "name": "stdout",
     "output_type": "stream",
     "text": [
      "0000000045,0000000045,0000033897,0000209996,0.65,0.98,323058,14,9073,43077\n"
     ]
    },
    {
     "name": "stderr",
     "output_type": "stream",
     "text": [
      "/opt/conda/lib/python3.7/site-packages/ipykernel_launcher.py:19: RuntimeWarning: invalid value encountered in double_scalars\n"
     ]
    },
    {
     "name": "stdout",
     "output_type": "stream",
     "text": [
      "0000000045,0000000045,0000036505,0000226150,0.70,0.98,323036,36,6924,45226\n"
     ]
    },
    {
     "name": "stderr",
     "output_type": "stream",
     "text": [
      "/opt/conda/lib/python3.7/site-packages/ipykernel_launcher.py:19: RuntimeWarning: invalid value encountered in double_scalars\n"
     ]
    },
    {
     "name": "stdout",
     "output_type": "stream",
     "text": [
      "0000000045,0000000045,0000039112,0000242304,0.75,0.98,323044,28,7165,44985\n"
     ]
    },
    {
     "name": "stderr",
     "output_type": "stream",
     "text": [
      "/opt/conda/lib/python3.7/site-packages/ipykernel_launcher.py:19: RuntimeWarning: invalid value encountered in double_scalars\n"
     ]
    },
    {
     "name": "stdout",
     "output_type": "stream",
     "text": [
      "0000000045,0000000045,0000041720,0000258457,0.80,0.98,323048,24,7308,44842\n"
     ]
    },
    {
     "name": "stderr",
     "output_type": "stream",
     "text": [
      "/opt/conda/lib/python3.7/site-packages/ipykernel_launcher.py:19: RuntimeWarning: invalid value encountered in double_scalars\n"
     ]
    },
    {
     "name": "stdout",
     "output_type": "stream",
     "text": [
      "0000000045,0000000045,0000044327,0000274611,0.85,0.98,323048,24,7531,44619\n"
     ]
    },
    {
     "name": "stderr",
     "output_type": "stream",
     "text": [
      "/opt/conda/lib/python3.7/site-packages/ipykernel_launcher.py:19: RuntimeWarning: invalid value encountered in double_scalars\n"
     ]
    },
    {
     "name": "stdout",
     "output_type": "stream",
     "text": [
      "0000000045,0000000045,0000046935,0000290764,0.90,0.98,323051,21,7905,44245\n"
     ]
    },
    {
     "name": "stderr",
     "output_type": "stream",
     "text": [
      "/opt/conda/lib/python3.7/site-packages/ipykernel_launcher.py:19: RuntimeWarning: invalid value encountered in double_scalars\n"
     ]
    },
    {
     "name": "stdout",
     "output_type": "stream",
     "text": [
      "0000000045,0000000045,0000049542,0000306918,0.95,0.98,323052,20,8362,43788\n"
     ]
    },
    {
     "name": "stderr",
     "output_type": "stream",
     "text": [
      "/opt/conda/lib/python3.7/site-packages/ipykernel_launcher.py:19: RuntimeWarning: invalid value encountered in double_scalars\n"
     ]
    },
    {
     "name": "stdout",
     "output_type": "stream",
     "text": [
      "0000000045,0000000045,0000052150,0000323072,1.00,0.98,322969,103,6552,45598\n",
      "processing 8.benign.csv rows = 46585\n",
      "processing 8.gafgyt.combo.csv rows = 54283\n",
      "processing 8.gafgyt.junk.csv rows = 28579\n",
      "processing 8.gafgyt.scan.csv rows = 27825\n",
      "processing 8.gafgyt.tcp.csv rows = 88816\n",
      "processing 8.gafgyt.udp.csv rows = 103720\n",
      "processing 8.mirai.ack.csv rows = 111480\n",
      "processing 8.mirai.scan.csv rows = 45930\n",
      "processing 8.mirai.syn.csv rows = 125715\n",
      "processing 8.mirai.udp.csv rows = 151879\n",
      "processing 8.mirai.udpplain.csv rows = 78244\n",
      "SimpleHome_XCS7_1002_WHT_Security_Camera\n",
      "total features 115\n",
      "final features 34\n",
      "features_final,features_selected,count_norm,count_anom,count_frac,acc,tn,fp,fn,tp\n"
     ]
    },
    {
     "name": "stderr",
     "output_type": "stream",
     "text": [
      "/opt/conda/lib/python3.7/site-packages/ipykernel_launcher.py:19: RuntimeWarning: invalid value encountered in double_scalars\n"
     ]
    },
    {
     "name": "stdout",
     "output_type": "stream",
     "text": [
      "0000000034,0000000034,0000000000,0000000000,0.00,0.94,814967,1504,46466,119\n"
     ]
    },
    {
     "name": "stderr",
     "output_type": "stream",
     "text": [
      "/opt/conda/lib/python3.7/site-packages/ipykernel_launcher.py:19: RuntimeWarning: invalid value encountered in double_scalars\n"
     ]
    },
    {
     "name": "stdout",
     "output_type": "stream",
     "text": [
      "0000000034,0000000034,0000002329,0000040823,0.05,0.57,453020,363451,9705,36880\n"
     ]
    },
    {
     "name": "stderr",
     "output_type": "stream",
     "text": [
      "/opt/conda/lib/python3.7/site-packages/ipykernel_launcher.py:19: RuntimeWarning: invalid value encountered in double_scalars\n"
     ]
    },
    {
     "name": "stdout",
     "output_type": "stream",
     "text": [
      "0000000034,0000000034,0000004658,0000081647,0.10,0.57,452623,363848,10297,36288\n"
     ]
    },
    {
     "name": "stderr",
     "output_type": "stream",
     "text": [
      "/opt/conda/lib/python3.7/site-packages/ipykernel_launcher.py:19: RuntimeWarning: invalid value encountered in double_scalars\n"
     ]
    },
    {
     "name": "stdout",
     "output_type": "stream",
     "text": [
      "0000000034,0000000034,0000006987,0000122470,0.15,0.56,451283,365188,10676,35909\n"
     ]
    },
    {
     "name": "stderr",
     "output_type": "stream",
     "text": [
      "/opt/conda/lib/python3.7/site-packages/ipykernel_launcher.py:19: RuntimeWarning: invalid value encountered in double_scalars\n"
     ]
    },
    {
     "name": "stdout",
     "output_type": "stream",
     "text": [
      "0000000034,0000000034,0000009317,0000163294,0.20,0.56,450735,365736,11179,35406\n"
     ]
    },
    {
     "name": "stderr",
     "output_type": "stream",
     "text": [
      "/opt/conda/lib/python3.7/site-packages/ipykernel_launcher.py:19: RuntimeWarning: invalid value encountered in double_scalars\n"
     ]
    },
    {
     "name": "stdout",
     "output_type": "stream",
     "text": [
      "0000000034,0000000034,0000011646,0000204117,0.25,0.56,442737,373734,10252,36333\n"
     ]
    },
    {
     "name": "stderr",
     "output_type": "stream",
     "text": [
      "/opt/conda/lib/python3.7/site-packages/ipykernel_launcher.py:19: RuntimeWarning: invalid value encountered in double_scalars\n"
     ]
    },
    {
     "name": "stdout",
     "output_type": "stream",
     "text": [
      "0000000034,0000000034,0000013975,0000244941,0.30,0.55,439018,377453,10307,36278\n"
     ]
    },
    {
     "name": "stderr",
     "output_type": "stream",
     "text": [
      "/opt/conda/lib/python3.7/site-packages/ipykernel_launcher.py:19: RuntimeWarning: invalid value encountered in double_scalars\n"
     ]
    },
    {
     "name": "stdout",
     "output_type": "stream",
     "text": [
      "0000000034,0000000034,0000016304,0000285764,0.35,0.54,427643,388828,9227,37358\n"
     ]
    },
    {
     "name": "stderr",
     "output_type": "stream",
     "text": [
      "/opt/conda/lib/python3.7/site-packages/ipykernel_launcher.py:19: RuntimeWarning: invalid value encountered in double_scalars\n"
     ]
    },
    {
     "name": "stdout",
     "output_type": "stream",
     "text": [
      "0000000034,0000000034,0000018634,0000326588,0.40,0.53,423613,392858,9218,37367\n"
     ]
    },
    {
     "name": "stderr",
     "output_type": "stream",
     "text": [
      "/opt/conda/lib/python3.7/site-packages/ipykernel_launcher.py:19: RuntimeWarning: invalid value encountered in double_scalars\n"
     ]
    },
    {
     "name": "stdout",
     "output_type": "stream",
     "text": [
      "0000000034,0000000034,0000020963,0000367411,0.45,0.53,422126,394345,9459,37126\n"
     ]
    },
    {
     "name": "stderr",
     "output_type": "stream",
     "text": [
      "/opt/conda/lib/python3.7/site-packages/ipykernel_launcher.py:19: RuntimeWarning: invalid value encountered in double_scalars\n"
     ]
    },
    {
     "name": "stdout",
     "output_type": "stream",
     "text": [
      "0000000034,0000000034,0000023292,0000408235,0.50,0.53,420778,395693,9700,36885\n"
     ]
    },
    {
     "name": "stderr",
     "output_type": "stream",
     "text": [
      "/opt/conda/lib/python3.7/site-packages/ipykernel_launcher.py:19: RuntimeWarning: invalid value encountered in double_scalars\n"
     ]
    },
    {
     "name": "stdout",
     "output_type": "stream",
     "text": [
      "0000000034,0000000034,0000025621,0000449059,0.55,0.53,419708,396763,9954,36631\n"
     ]
    },
    {
     "name": "stderr",
     "output_type": "stream",
     "text": [
      "/opt/conda/lib/python3.7/site-packages/ipykernel_launcher.py:19: RuntimeWarning: invalid value encountered in double_scalars\n"
     ]
    },
    {
     "name": "stdout",
     "output_type": "stream",
     "text": [
      "0000000034,0000000034,0000027951,0000489882,0.60,0.53,418625,397846,10184,36401\n"
     ]
    },
    {
     "name": "stderr",
     "output_type": "stream",
     "text": [
      "/opt/conda/lib/python3.7/site-packages/ipykernel_launcher.py:19: RuntimeWarning: invalid value encountered in double_scalars\n"
     ]
    },
    {
     "name": "stdout",
     "output_type": "stream",
     "text": [
      "0000000034,0000000034,0000030280,0000530706,0.65,0.52,409513,406958,9538,37047\n"
     ]
    },
    {
     "name": "stderr",
     "output_type": "stream",
     "text": [
      "/opt/conda/lib/python3.7/site-packages/ipykernel_launcher.py:19: RuntimeWarning: invalid value encountered in double_scalars\n"
     ]
    },
    {
     "name": "stdout",
     "output_type": "stream",
     "text": [
      "0000000034,0000000034,0000032609,0000571529,0.70,0.51,404024,412447,9375,37210\n"
     ]
    },
    {
     "name": "stderr",
     "output_type": "stream",
     "text": [
      "/opt/conda/lib/python3.7/site-packages/ipykernel_launcher.py:19: RuntimeWarning: invalid value encountered in double_scalars\n"
     ]
    },
    {
     "name": "stdout",
     "output_type": "stream",
     "text": [
      "0000000034,0000000034,0000034938,0000612353,0.75,0.51,402653,413818,9592,36993\n"
     ]
    },
    {
     "name": "stderr",
     "output_type": "stream",
     "text": [
      "/opt/conda/lib/python3.7/site-packages/ipykernel_launcher.py:19: RuntimeWarning: invalid value encountered in double_scalars\n"
     ]
    },
    {
     "name": "stdout",
     "output_type": "stream",
     "text": [
      "0000000034,0000000034,0000037268,0000653176,0.80,0.51,401096,415375,9766,36819\n"
     ]
    },
    {
     "name": "stderr",
     "output_type": "stream",
     "text": [
      "/opt/conda/lib/python3.7/site-packages/ipykernel_launcher.py:19: RuntimeWarning: invalid value encountered in double_scalars\n"
     ]
    },
    {
     "name": "stdout",
     "output_type": "stream",
     "text": [
      "0000000034,0000000034,0000039597,0000694000,0.85,0.51,399720,416751,9942,36643\n"
     ]
    },
    {
     "name": "stderr",
     "output_type": "stream",
     "text": [
      "/opt/conda/lib/python3.7/site-packages/ipykernel_launcher.py:19: RuntimeWarning: invalid value encountered in double_scalars\n"
     ]
    },
    {
     "name": "stdout",
     "output_type": "stream",
     "text": [
      "0000000034,0000000034,0000041926,0000734823,0.90,0.50,392761,423710,9771,36814\n"
     ]
    },
    {
     "name": "stderr",
     "output_type": "stream",
     "text": [
      "/opt/conda/lib/python3.7/site-packages/ipykernel_launcher.py:19: RuntimeWarning: invalid value encountered in double_scalars\n"
     ]
    },
    {
     "name": "stdout",
     "output_type": "stream",
     "text": [
      "0000000034,0000000034,0000044255,0000775647,0.95,0.49,384904,431567,9563,37022\n"
     ]
    },
    {
     "name": "stderr",
     "output_type": "stream",
     "text": [
      "/opt/conda/lib/python3.7/site-packages/ipykernel_launcher.py:19: RuntimeWarning: invalid value encountered in double_scalars\n"
     ]
    },
    {
     "name": "stdout",
     "output_type": "stream",
     "text": [
      "0000000034,0000000034,0000046585,0000816471,1.00,0.47,365475,450996,8786,37799\n",
      "processing 9.benign.csv rows = 19528\n",
      "processing 9.gafgyt.combo.csv rows = 59398\n",
      "processing 9.gafgyt.junk.csv rows = 27413\n",
      "processing 9.gafgyt.scan.csv rows = 28572\n",
      "processing 9.gafgyt.tcp.csv rows = 98075\n",
      "processing 9.gafgyt.udp.csv rows = 102980\n",
      "processing 9.mirai.ack.csv rows = 107187\n",
      "processing 9.mirai.scan.csv rows = 43674\n",
      "processing 9.mirai.syn.csv rows = 122479\n",
      "processing 9.mirai.udp.csv rows = 157084\n",
      "processing 9.mirai.udpplain.csv rows = 84436\n",
      "SimpleHome_XCS7_1003_WHT_Security_Camera\n",
      "total features 115\n",
      "final features 45\n",
      "features_final,features_selected,count_norm,count_anom,count_frac,acc,tn,fp,fn,tp\n"
     ]
    },
    {
     "name": "stderr",
     "output_type": "stream",
     "text": [
      "/opt/conda/lib/python3.7/site-packages/ipykernel_launcher.py:19: RuntimeWarning: invalid value encountered in double_scalars\n"
     ]
    },
    {
     "name": "stdout",
     "output_type": "stream",
     "text": [
      "0000000045,0000000045,0000000000,0000000000,0.00,0.74,630330,200968,19443,85\n"
     ]
    },
    {
     "name": "stderr",
     "output_type": "stream",
     "text": [
      "/opt/conda/lib/python3.7/site-packages/ipykernel_launcher.py:19: RuntimeWarning: invalid value encountered in double_scalars\n"
     ]
    },
    {
     "name": "stdout",
     "output_type": "stream",
     "text": [
      "0000000045,0000000045,0000000976,0000041564,0.05,0.81,668863,162435,1695,17833\n"
     ]
    },
    {
     "name": "stderr",
     "output_type": "stream",
     "text": [
      "/opt/conda/lib/python3.7/site-packages/ipykernel_launcher.py:19: RuntimeWarning: invalid value encountered in double_scalars\n"
     ]
    },
    {
     "name": "stdout",
     "output_type": "stream",
     "text": [
      "0000000045,0000000045,0000001952,0000083129,0.10,0.81,670405,160893,2101,17427\n"
     ]
    },
    {
     "name": "stderr",
     "output_type": "stream",
     "text": [
      "/opt/conda/lib/python3.7/site-packages/ipykernel_launcher.py:19: RuntimeWarning: invalid value encountered in double_scalars\n"
     ]
    },
    {
     "name": "stdout",
     "output_type": "stream",
     "text": [
      "0000000045,0000000045,0000002929,0000124694,0.15,0.81,671848,159450,2553,16975\n"
     ]
    },
    {
     "name": "stderr",
     "output_type": "stream",
     "text": [
      "/opt/conda/lib/python3.7/site-packages/ipykernel_launcher.py:19: RuntimeWarning: invalid value encountered in double_scalars\n"
     ]
    },
    {
     "name": "stdout",
     "output_type": "stream",
     "text": [
      "0000000045,0000000045,0000003905,0000166259,0.20,0.81,671088,160210,2594,16934\n"
     ]
    },
    {
     "name": "stderr",
     "output_type": "stream",
     "text": [
      "/opt/conda/lib/python3.7/site-packages/ipykernel_launcher.py:19: RuntimeWarning: invalid value encountered in double_scalars\n"
     ]
    },
    {
     "name": "stdout",
     "output_type": "stream",
     "text": [
      "0000000045,0000000045,0000004882,0000207824,0.25,0.81,670299,160999,2609,16919\n"
     ]
    },
    {
     "name": "stderr",
     "output_type": "stream",
     "text": [
      "/opt/conda/lib/python3.7/site-packages/ipykernel_launcher.py:19: RuntimeWarning: invalid value encountered in double_scalars\n"
     ]
    },
    {
     "name": "stdout",
     "output_type": "stream",
     "text": [
      "0000000045,0000000045,0000005858,0000249389,0.30,0.81,669248,162050,2621,16907\n"
     ]
    },
    {
     "name": "stderr",
     "output_type": "stream",
     "text": [
      "/opt/conda/lib/python3.7/site-packages/ipykernel_launcher.py:19: RuntimeWarning: invalid value encountered in double_scalars\n"
     ]
    },
    {
     "name": "stdout",
     "output_type": "stream",
     "text": [
      "0000000045,0000000045,0000006834,0000290954,0.35,0.74,611126,220172,2554,16974\n"
     ]
    },
    {
     "name": "stderr",
     "output_type": "stream",
     "text": [
      "/opt/conda/lib/python3.7/site-packages/ipykernel_launcher.py:19: RuntimeWarning: invalid value encountered in double_scalars\n"
     ]
    },
    {
     "name": "stdout",
     "output_type": "stream",
     "text": [
      "0000000045,0000000045,0000007811,0000332519,0.40,0.73,604330,226968,2563,16965\n"
     ]
    },
    {
     "name": "stderr",
     "output_type": "stream",
     "text": [
      "/opt/conda/lib/python3.7/site-packages/ipykernel_launcher.py:19: RuntimeWarning: invalid value encountered in double_scalars\n"
     ]
    },
    {
     "name": "stdout",
     "output_type": "stream",
     "text": [
      "0000000045,0000000045,0000008787,0000374084,0.45,0.57,466084,365214,2536,16992\n"
     ]
    },
    {
     "name": "stderr",
     "output_type": "stream",
     "text": [
      "/opt/conda/lib/python3.7/site-packages/ipykernel_launcher.py:19: RuntimeWarning: invalid value encountered in double_scalars\n"
     ]
    },
    {
     "name": "stdout",
     "output_type": "stream",
     "text": [
      "0000000045,0000000045,0000009763,0000415648,0.50,0.57,466107,365191,2551,16977\n"
     ]
    },
    {
     "name": "stderr",
     "output_type": "stream",
     "text": [
      "/opt/conda/lib/python3.7/site-packages/ipykernel_launcher.py:19: RuntimeWarning: invalid value encountered in double_scalars\n"
     ]
    },
    {
     "name": "stdout",
     "output_type": "stream",
     "text": [
      "0000000045,0000000045,0000010740,0000457213,0.55,0.57,464915,366383,2552,16976\n"
     ]
    },
    {
     "name": "stderr",
     "output_type": "stream",
     "text": [
      "/opt/conda/lib/python3.7/site-packages/ipykernel_launcher.py:19: RuntimeWarning: invalid value encountered in double_scalars\n"
     ]
    },
    {
     "name": "stdout",
     "output_type": "stream",
     "text": [
      "0000000045,0000000045,0000011716,0000498778,0.60,0.57,464245,367053,2564,16964\n"
     ]
    },
    {
     "name": "stderr",
     "output_type": "stream",
     "text": [
      "/opt/conda/lib/python3.7/site-packages/ipykernel_launcher.py:19: RuntimeWarning: invalid value encountered in double_scalars\n"
     ]
    },
    {
     "name": "stdout",
     "output_type": "stream",
     "text": [
      "0000000045,0000000045,0000012693,0000540343,0.65,0.56,463316,367982,2569,16959\n"
     ]
    },
    {
     "name": "stderr",
     "output_type": "stream",
     "text": [
      "/opt/conda/lib/python3.7/site-packages/ipykernel_launcher.py:19: RuntimeWarning: invalid value encountered in double_scalars\n"
     ]
    },
    {
     "name": "stdout",
     "output_type": "stream",
     "text": [
      "0000000045,0000000045,0000013669,0000581908,0.70,0.56,458562,372736,2551,16977\n"
     ]
    },
    {
     "name": "stderr",
     "output_type": "stream",
     "text": [
      "/opt/conda/lib/python3.7/site-packages/ipykernel_launcher.py:19: RuntimeWarning: invalid value encountered in double_scalars\n"
     ]
    },
    {
     "name": "stdout",
     "output_type": "stream",
     "text": [
      "0000000045,0000000045,0000014646,0000623473,0.75,0.56,458637,372661,2562,16966\n"
     ]
    },
    {
     "name": "stderr",
     "output_type": "stream",
     "text": [
      "/opt/conda/lib/python3.7/site-packages/ipykernel_launcher.py:19: RuntimeWarning: invalid value encountered in double_scalars\n"
     ]
    },
    {
     "name": "stdout",
     "output_type": "stream",
     "text": [
      "0000000045,0000000045,0000015622,0000665038,0.80,0.56,458652,372646,2572,16956\n"
     ]
    },
    {
     "name": "stderr",
     "output_type": "stream",
     "text": [
      "/opt/conda/lib/python3.7/site-packages/ipykernel_launcher.py:19: RuntimeWarning: invalid value encountered in double_scalars\n"
     ]
    },
    {
     "name": "stdout",
     "output_type": "stream",
     "text": [
      "0000000045,0000000045,0000016598,0000706603,0.85,0.56,458753,372545,2585,16943\n"
     ]
    },
    {
     "name": "stderr",
     "output_type": "stream",
     "text": [
      "/opt/conda/lib/python3.7/site-packages/ipykernel_launcher.py:19: RuntimeWarning: invalid value encountered in double_scalars\n"
     ]
    },
    {
     "name": "stdout",
     "output_type": "stream",
     "text": [
      "0000000045,0000000045,0000017575,0000748168,0.90,0.56,458838,372460,2594,16934\n"
     ]
    },
    {
     "name": "stderr",
     "output_type": "stream",
     "text": [
      "/opt/conda/lib/python3.7/site-packages/ipykernel_launcher.py:19: RuntimeWarning: invalid value encountered in double_scalars\n"
     ]
    },
    {
     "name": "stdout",
     "output_type": "stream",
     "text": [
      "0000000045,0000000045,0000018551,0000789733,0.95,0.56,458908,372390,2602,16926\n"
     ]
    },
    {
     "name": "stderr",
     "output_type": "stream",
     "text": [
      "/opt/conda/lib/python3.7/site-packages/ipykernel_launcher.py:19: RuntimeWarning: invalid value encountered in double_scalars\n"
     ]
    },
    {
     "name": "stdout",
     "output_type": "stream",
     "text": [
      "0000000045,0000000045,0000019528,0000831298,1.00,0.56,455498,375800,2596,16932\n"
     ]
    }
   ],
   "source": [
    "for i in range(9):\n",
    "    device_index = i\n",
    "    device_id = device_index + 1\n",
    "    device_name = dn_nbaiot[device_index]\n",
    "    (X, y, Xdf) = get_nbaiot_device_data(device_id)\n",
    "    features_before = X.shape[1]\n",
    "    X = remove_correlated_features(Xdf, 0.95)\n",
    "    features_after = X.shape[1]\n",
    "    X_std = StandardScaler().fit_transform(X)\n",
    "    indices_norm = np.where(y >= 0.5)\n",
    "    indices_anom = np.where(y <= 0.5)\n",
    "    X_norm_all = X_std[indices_norm]\n",
    "    X_anom_all = X_std[indices_anom]\n",
    "    step = 0.05\n",
    "    count_frac = 0.0\n",
    "    print(device_name)\n",
    "    print('total features', features_before)\n",
    "    print('final features', features_after)\n",
    "    print(\"features_final,features_selected,count_norm,count_anom,count_frac,acc,tn,fp,fn,tp\")\n",
    "    while count_frac <= 1.01:\n",
    "        count_norm = int(count_frac * float(X_norm_all.shape[0]))\n",
    "        count_anom = int(count_frac * float(X_anom_all.shape[0]))\n",
    "        X_norm = X_norm_all[0:count_norm,:]\n",
    "        X_anom = X_anom_all[0:count_anom,:]\n",
    "        X_sel = select_features(X_std, X_norm, X_anom)\n",
    "        features_final = X_std.shape[1]\n",
    "        features_selected = X_sel.shape[1]\n",
    "        y_pred = predict(X_sel, X_norm, X_anom)\n",
    "        tn, fp, fn, tp = confusion_matrix(y, y_pred, labels=[0,1]).ravel()\n",
    "        acc = accuracy_score(y, y_pred)\n",
    "        print(f'{features_final:010d},{features_selected:010d},{count_norm:010d},{count_anom:010d},{count_frac:.2f},{acc:.2f},{tn},{fp},{fn},{tp}')\n",
    "        count_frac += step"
   ]
  }
 ],
 "metadata": {
  "kernelspec": {
   "display_name": "Python 3",
   "language": "python",
   "name": "python3"
  },
  "language_info": {
   "codemirror_mode": {
    "name": "ipython",
    "version": 3
   },
   "file_extension": ".py",
   "mimetype": "text/x-python",
   "name": "python",
   "nbconvert_exporter": "python",
   "pygments_lexer": "ipython3",
   "version": "3.7.6"
  }
 },
 "nbformat": 4,
 "nbformat_minor": 4
}
